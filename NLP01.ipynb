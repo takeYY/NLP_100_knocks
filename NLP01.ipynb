{
  "nbformat": 4,
  "nbformat_minor": 0,
  "metadata": {
    "colab": {
      "name": "NLP01.ipynb",
      "provenance": []
    },
    "kernelspec": {
      "name": "python3",
      "display_name": "Python 3"
    }
  },
  "cells": [
    {
      "cell_type": "markdown",
      "metadata": {
        "id": "Ic7r8bSZKxWw"
      },
      "source": [
        "# 第1章　準備運動"
      ]
    },
    {
      "cell_type": "markdown",
      "metadata": {
        "id": "rExJVHtwK7rW"
      },
      "source": [
        "## 00. 文字列の逆順"
      ]
    },
    {
      "cell_type": "markdown",
      "metadata": {
        "id": "cdM2j7axLRQH"
      },
      "source": [
        "文字列”stressed”の文字を逆に（末尾から先頭に向かって）並べた文字列を得よ"
      ]
    },
    {
      "cell_type": "code",
      "metadata": {
        "id": "coYnwEfUKhnp",
        "outputId": "c8df5766-e4d3-4950-ca05-3eda60a485d0",
        "colab": {
          "base_uri": "https://localhost:8080/",
          "height": 51
        }
      },
      "source": [
        "stress = 'stressed'\n",
        "string = ''.join(list(reversed(stress)))\n",
        "print(string)\n",
        "\n",
        "### answer ###\n",
        "stri = 'stressed'\n",
        "ans = stri[::-1]  # 「先頭」から「末尾」まで「逆順の移動幅1」で\n",
        "print(ans)"
      ],
      "execution_count": null,
      "outputs": [
        {
          "output_type": "stream",
          "text": [
            "desserts\n",
            "desserts\n"
          ],
          "name": "stdout"
        }
      ]
    },
    {
      "cell_type": "markdown",
      "metadata": {
        "id": "SFjn5s-LMcVN"
      },
      "source": [
        "## 01. 「パタトクカシーー」"
      ]
    },
    {
      "cell_type": "markdown",
      "metadata": {
        "id": "d9vcRxOIMlMr"
      },
      "source": [
        "「パタトクカシーー」という文字列の1,3,5,7文字目を取り出して連結した文字列を得よ．"
      ]
    },
    {
      "cell_type": "code",
      "metadata": {
        "id": "2JL4zMaILp5u",
        "outputId": "50ac5c30-78cb-444e-99c6-b90f75da4d73",
        "colab": {
          "base_uri": "https://localhost:8080/",
          "height": 51
        }
      },
      "source": [
        "string = 'パタトクカシーー'\n",
        "result = ''\n",
        "for index in range(len(string)):\n",
        "  if index%2 == 0:\n",
        "    result += string[index]\n",
        "print(result)\n",
        "\n",
        "### answer ###\n",
        "stri = 'パタトクカシーー'\n",
        "ans = stri[::2]  # 「先頭」から「末尾」まで「移動幅2」で\n",
        "print(ans)"
      ],
      "execution_count": null,
      "outputs": [
        {
          "output_type": "stream",
          "text": [
            "パトカー\n",
            "パトカー\n"
          ],
          "name": "stdout"
        }
      ]
    },
    {
      "cell_type": "markdown",
      "metadata": {
        "id": "ufrdfbyYOdcz"
      },
      "source": [
        "## 02. 「パトカー」＋「タクシー」＝「パタトクカシーー」"
      ]
    },
    {
      "cell_type": "markdown",
      "metadata": {
        "id": "b3ST6W3MOlPE"
      },
      "source": [
        "「パトカー」＋「タクシー」の文字を先頭から交互に連結して文字列「パタトクカシーー」を得よ．"
      ]
    },
    {
      "cell_type": "code",
      "metadata": {
        "id": "_tloRk8nNbxn",
        "outputId": "53b0fe48-d792-4b00-a2ce-3b555720b6bf",
        "colab": {
          "base_uri": "https://localhost:8080/",
          "height": 51
        }
      },
      "source": [
        "pato = 'パトカー'\n",
        "taxi = 'タクシー'\n",
        "ans = ''\n",
        "for index in range(len(pato)):\n",
        "  ans += pato[index] + taxi[index]\n",
        "print(ans)\n",
        "\n",
        "### answer ###\n",
        "str1 = 'パトカー'\n",
        "str2 = 'タクシー'\n",
        "ans = ''.join([i + j for i, j in zip(str1, str2)])\n",
        "print(ans)"
      ],
      "execution_count": null,
      "outputs": [
        {
          "output_type": "stream",
          "text": [
            "パタトクカシーー\n",
            "パタトクカシーー\n"
          ],
          "name": "stdout"
        }
      ]
    },
    {
      "cell_type": "markdown",
      "metadata": {
        "id": "IqqS63TCP9v3"
      },
      "source": [
        "## 03. 円周率"
      ]
    },
    {
      "cell_type": "markdown",
      "metadata": {
        "id": "JSDGTalHQDWP"
      },
      "source": [
        "“Now I need a drink, alcoholic of course, after the heavy lectures involving quantum mechanics.”という文を単語に分解し，各単語の（アルファベットの）文字数を先頭から出現順に並べたリストを作成せよ．"
      ]
    },
    {
      "cell_type": "code",
      "metadata": {
        "id": "HcJtZ1TjO6c6",
        "outputId": "291a123e-a960-443f-8b9a-24db7c7e8be8",
        "colab": {
          "base_uri": "https://localhost:8080/",
          "height": 51
        }
      },
      "source": [
        "sentense = 'Now I need a drink, alcoholic of course, after the heavy lectures involving quantum mechanics.'\n",
        "sentense_list = sentense.split(' ')\n",
        "sentense_num_list = []\n",
        "for stri in sentense_list:\n",
        "  sentense_num_list.append(len(stri))\n",
        "print(sentense_num_list)\n",
        "\n",
        "### answer ###\n",
        "import re\n",
        "\n",
        "stri = 'Now I need a drink, alcoholic of course, after the heavy lectures involving quantum mechanics.'\n",
        "stri = re.sub('[,\\.]', '', stri)  # ,と.を除去\n",
        "splits = stri.split()  # スペースで区切って単語ごとのリストを作成\n",
        "ans = [len(i) for i in splits]\n",
        "print(ans)"
      ],
      "execution_count": null,
      "outputs": [
        {
          "output_type": "stream",
          "text": [
            "[3, 1, 4, 1, 6, 9, 2, 7, 5, 3, 5, 8, 9, 7, 10]\n",
            "[3, 1, 4, 1, 5, 9, 2, 6, 5, 3, 5, 8, 9, 7, 9]\n"
          ],
          "name": "stdout"
        }
      ]
    },
    {
      "cell_type": "markdown",
      "metadata": {
        "id": "AjeOr9FBRjLI"
      },
      "source": [
        "## 04. 元素記号"
      ]
    },
    {
      "cell_type": "markdown",
      "metadata": {
        "id": "awX2r0FmRntG"
      },
      "source": [
        "“Hi He Lied Because Boron Could Not Oxidize Fluorine. New Nations Might Also Sign Peace Security Clause. Arthur King Can.”という文を単語に分解し，1, 5, 6, 7, 8, 9, 15, 16, 19番目の単語は先頭の1文字，それ以外の単語は先頭の2文字を取り出し，取り出した文字列から単語の位置（先頭から何番目の単語か）への連想配列（辞書型もしくはマップ型）を作成せよ．"
      ]
    },
    {
      "cell_type": "code",
      "metadata": {
        "id": "MXi4fpICQ4xU",
        "outputId": "4a666502-2c7d-4687-d78b-38257b5086a2",
        "colab": {
          "base_uri": "https://localhost:8080/",
          "height": 51
        }
      },
      "source": [
        "import re\n",
        "sentense = 'Hi He Lied Because Boron Could Not Oxidize Fluorine. New Nations Might Also Sign Peace Security Clause. Arthur King Can'\n",
        "sentense = re.sub('[,\\.]', '', sentense)\n",
        "sentense_list = sentense.split()\n",
        "num_list = [1,5,6,7,8,9,15,16,19]\n",
        "element_map = {}\n",
        "for index in range(len(sentense_list)):\n",
        "  if index+1 in num_list:\n",
        "    element = sentense_list[index][:1]\n",
        "  else:\n",
        "    element = sentense_list[index][:2]\n",
        "  element_map[element] = index+1\n",
        "print(element_map)\n",
        "\n",
        "\n",
        "### answer ###\n",
        "str = 'Hi He Lied Because Boron Could Not Oxidize Fluorine. New Nations Might Also Sign Peace Security Clause. Arthur King Can.'\n",
        "splits = str.split()\n",
        "one_ch = [1, 5, 6, 7, 8, 9, 15, 16, 19]  # 1文字を取り出す単語の番号リスト\n",
        "ans = {}\n",
        "for i, word in enumerate(splits):\n",
        "  if i + 1 in one_ch:\n",
        "    ans[word[:1]] = i + 1  # リストにあれば1文字を取得\n",
        "  else:\n",
        "    ans[word[:2]] = i + 1  # なければ2文字を取得\n",
        "\n",
        "print(ans)"
      ],
      "execution_count": null,
      "outputs": [
        {
          "output_type": "stream",
          "text": [
            "{'H': 1, 'He': 2, 'Li': 3, 'Be': 4, 'B': 5, 'C': 6, 'N': 7, 'O': 8, 'F': 9, 'Ne': 10, 'Na': 11, 'Mi': 12, 'Al': 13, 'Si': 14, 'P': 15, 'S': 16, 'Cl': 17, 'Ar': 18, 'K': 19, 'Ca': 20}\n",
            "{'H': 1, 'He': 2, 'Li': 3, 'Be': 4, 'B': 5, 'C': 6, 'N': 7, 'O': 8, 'F': 9, 'Ne': 10, 'Na': 11, 'Mi': 12, 'Al': 13, 'Si': 14, 'P': 15, 'S': 16, 'Cl': 17, 'Ar': 18, 'K': 19, 'Ca': 20}\n"
          ],
          "name": "stdout"
        }
      ]
    },
    {
      "cell_type": "markdown",
      "metadata": {
        "id": "pcwiFytrWb57"
      },
      "source": [
        "## 05. n-gram"
      ]
    },
    {
      "cell_type": "markdown",
      "metadata": {
        "id": "CKSoYFIoWgh2"
      },
      "source": [
        "与えられたシーケンス（文字列やリストなど）からn-gramを作る関数を作成せよ．この関数を用い，”I am an NLPer”という文から単語bi-gram，文字bi-gramを得よ．"
      ]
    },
    {
      "cell_type": "code",
      "metadata": {
        "id": "2AtkOy9gUIlc",
        "outputId": "238140aa-9efb-4023-fa59-41f47752ac47",
        "colab": {
          "base_uri": "https://localhost:8080/",
          "height": 51
        }
      },
      "source": [
        "### answer ###\n",
        "def ngram(n, lst):\n",
        "  # ex.\n",
        "  # [str[i:] for i in range(2)] -> ['I am an NLPer', ' am an NLPer']\n",
        "  # zip(*[str[i:] for i in range(2)]) -> zip('I am an NLPer', ' am an NLPer')\n",
        "  return list(zip(*[lst[i:] for i in range(n)]))\n",
        "sentense = 'I am an NLPer'\n",
        "print(ngram(2, sentense.split()))\n",
        "print(ngram(2, sentense))"
      ],
      "execution_count": null,
      "outputs": [
        {
          "output_type": "stream",
          "text": [
            "[('I', 'am'), ('am', 'an'), ('an', 'NLPer')]\n",
            "[('I', ' '), (' ', 'a'), ('a', 'm'), ('m', ' '), (' ', 'a'), ('a', 'n'), ('n', ' '), (' ', 'N'), ('N', 'L'), ('L', 'P'), ('P', 'e'), ('e', 'r')]\n"
          ],
          "name": "stdout"
        }
      ]
    },
    {
      "cell_type": "markdown",
      "metadata": {
        "id": "spn74H8Dcjjd"
      },
      "source": [
        "## 06. 集合"
      ]
    },
    {
      "cell_type": "markdown",
      "metadata": {
        "id": "VVc24q_BcnPv"
      },
      "source": [
        "“paraparaparadise”と”paragraph”に含まれる文字bi-gramの集合を，それぞれ, XとYとして求め，XとYの和集合，積集合，差集合を求めよ．さらに，’se’というbi-gramがXおよびYに含まれるかどうかを調べよ．\n",
        "\n"
      ]
    },
    {
      "cell_type": "code",
      "metadata": {
        "id": "eFRGBo7favLk",
        "outputId": "c22d0523-c35b-45b8-949d-37cd24036b80",
        "colab": {
          "base_uri": "https://localhost:8080/",
          "height": 136
        }
      },
      "source": [
        "### answer ###\n",
        "sentense1 = 'paraparaparadise'\n",
        "sentense2 = 'paragraph'\n",
        "X = set(ngram(2, sentense1))\n",
        "Y = set(ngram(2, sentense2))\n",
        "union = X | Y\n",
        "intersection = X & Y\n",
        "difference = X - Y\n",
        "se = {('s', 'e')}\n",
        "print('X:{}'.format(X))\n",
        "print('Y:{}'.format(Y))\n",
        "print('和集合：{}'.format(union))\n",
        "print('積集合：{}'.format(intersection))\n",
        "print('差集合：{}'.format(difference))\n",
        "print('Xに\"se\"が含まれているか：{}'.format(se <= X))\n",
        "print('Yに\"se\"が含まれているか：{}'.format(se <= Y))"
      ],
      "execution_count": null,
      "outputs": [
        {
          "output_type": "stream",
          "text": [
            "X:{('a', 'd'), ('a', 'r'), ('p', 'a'), ('s', 'e'), ('r', 'a'), ('d', 'i'), ('a', 'p'), ('i', 's')}\n",
            "Y:{('p', 'h'), ('a', 'r'), ('p', 'a'), ('a', 'g'), ('r', 'a'), ('g', 'r'), ('a', 'p')}\n",
            "和集合：{('p', 'h'), ('a', 'd'), ('a', 'r'), ('p', 'a'), ('s', 'e'), ('a', 'g'), ('r', 'a'), ('g', 'r'), ('d', 'i'), ('a', 'p'), ('i', 's')}\n",
            "積集合：{('a', 'r'), ('p', 'a'), ('a', 'p'), ('r', 'a')}\n",
            "差集合：{('a', 'd'), ('s', 'e'), ('i', 's'), ('d', 'i')}\n",
            "Xに\"se\"が含まれているか：True\n",
            "Yに\"se\"が含まれているか：False\n"
          ],
          "name": "stdout"
        }
      ]
    },
    {
      "cell_type": "markdown",
      "metadata": {
        "id": "WrE-tUKzlSuf"
      },
      "source": [
        "## 07. テンプレートによる文生成"
      ]
    },
    {
      "cell_type": "markdown",
      "metadata": {
        "id": "PqWXQpKdlaHb"
      },
      "source": [
        "引数x, y, zを受け取り「x時のyはz」という文字列を返す関数を実装せよ．さらに，x=12, y=”気温”, z=22.4として，実行結果を確認せよ．"
      ]
    },
    {
      "cell_type": "code",
      "metadata": {
        "id": "AutrWmF_dUVE",
        "outputId": "3f0f6cfa-edca-4c4c-aac8-fb32f118bc00",
        "colab": {
          "base_uri": "https://localhost:8080/",
          "height": 51
        }
      },
      "source": [
        "def function07(x, y, z):\n",
        "  return '{}時の{}は{}'.format(x, y, z)\n",
        "\n",
        "print(function07(12, \"気温\", 22.4))\n",
        "\n",
        "### answer ###\n",
        "def generate_sentence(x, y, z):\n",
        "  print(f'{x}時のとき{y}は{z}')\n",
        "\n",
        "generate_sentence(12, '気温', 22.4)"
      ],
      "execution_count": null,
      "outputs": [
        {
          "output_type": "stream",
          "text": [
            "12時の気温は22.4\n",
            "12時のとき気温は22.4\n"
          ],
          "name": "stdout"
        }
      ]
    },
    {
      "cell_type": "markdown",
      "metadata": {
        "id": "AVpK_wkunFY0"
      },
      "source": [
        "## 08. 暗号文"
      ]
    },
    {
      "cell_type": "markdown",
      "metadata": {
        "id": "mpbHuEsgnG_d"
      },
      "source": [
        "与えられた文字列の各文字を，以下の仕様で変換する関数cipherを実装せよ．\n",
        "- 英小文字ならば(219 - 文字コード)の文字に置換\n",
        "- その他の文字はそのまま出力\n",
        "\n",
        "この関数を用い，英語のメッセージを暗号化・復号化せよ．\n",
        "\n"
      ]
    },
    {
      "cell_type": "code",
      "metadata": {
        "id": "3j1mPwr_mpD0",
        "outputId": "3aa156dc-e828-4b7f-ab8d-ba205ece1070",
        "colab": {
          "base_uri": "https://localhost:8080/",
          "height": 51
        }
      },
      "source": [
        "def cipher(string):\n",
        "  rep = [chr(219 - ord(x)) if x.islower() else x for x in string]\n",
        "  return ''.join(rep)\n",
        "\n",
        "message = 'Hi He Lied Because Boron Could Not Oxidize Fluorine. New Nations Might Also Sign Peace Security Clause. Arthur King Can.'\n",
        "crypt_message = cipher(message)\n",
        "print(f'暗号化：　{crypt_message}')\n",
        "decrypt_message = cipher(crypt_message)\n",
        "print(f'復号化：　{decrypt_message}')"
      ],
      "execution_count": null,
      "outputs": [
        {
          "output_type": "stream",
          "text": [
            "暗号化：　Hr Hv Lrvw Bvxzfhv Blilm Clfow Nlg Ocrwrav Foflirmv. Nvd Nzgrlmh Mrtsg Aohl Srtm Pvzxv Svxfirgb Cozfhv. Aigsfi Krmt Czm.\n",
            "復号化：　Hi He Lied Because Boron Could Not Oxidize Fluorine. New Nations Might Also Sign Peace Security Clause. Arthur King Can.\n"
          ],
          "name": "stdout"
        }
      ]
    },
    {
      "cell_type": "markdown",
      "metadata": {
        "id": "XoxJcvdg2zMF"
      },
      "source": [
        "## 09. Typoglycemia"
      ]
    },
    {
      "cell_type": "markdown",
      "metadata": {
        "id": "V8h-_yRL224Q"
      },
      "source": [
        "スペースで区切られた単語列に対して，各単語の先頭と末尾の文字は残し，それ以外の文字の順序をランダムに並び替えるプログラムを作成せよ．ただし，長さが４以下の単語は並び替えないこととする．適当な英語の文（例えば”I couldn’t believe that I could actually understand what I was reading : the phenomenal power of the human mind .”）を与え，その実行結果を確認せよ"
      ]
    },
    {
      "cell_type": "code",
      "metadata": {
        "id": "MziTIJqRvO3c",
        "outputId": "41237d3f-39c7-4cdb-f931-676a0e5a4a44",
        "colab": {
          "base_uri": "https://localhost:8080/",
          "height": 51
        }
      },
      "source": [
        "import re\n",
        "import random\n",
        "\n",
        "sentense = 'I couldn’t believe that I could actually understand what I was reading : the phenomenal power of the human mind .'\n",
        "new_sentense = re.sub(',\\.', '', sentense)\n",
        "sentense_list = new_sentense.split()\n",
        "new_sentense_list = []\n",
        "for index, string in enumerate(sentense_list):\n",
        "  if 4 < len(string):\n",
        "    stri = string[2:len(string)-1]\n",
        "    random_str = ''.join(random.sample(stri, len(stri)))\n",
        "    new_sentense_list.append(string[:1]+random_str+string[len(string)-1])\n",
        "  else:\n",
        "    new_sentense_list.append(string)\n",
        "print(' '.join(new_sentense_list))\n",
        "\n",
        "### answer ###\n",
        "import random\n",
        "\n",
        "def shuffle(words):\n",
        "  result = []\n",
        "  for word in words.split():\n",
        "    if len(word) > 4:  # 長さが4超であればシャッフル\n",
        "      word = word[:1] + ''.join(random.sample(word[1:-1], len(word) - 2)) + word[-1:]\n",
        "    result.append(word)\n",
        "  return ' '.join(result)\n",
        "\n",
        "words = \"I couldn't believe that I could actually understand what I was reading : the phenomenal power of the human mind .\"\n",
        "ans = shuffle(words)\n",
        "\n",
        "print(ans)"
      ],
      "execution_count": null,
      "outputs": [
        {
          "output_type": "stream",
          "text": [
            "I cudl’nt bleive that I clud aaltluy uadrtsend what I was ridnag : the paeemonnl pewr of the hamn mind .\n",
            "I cnuod'lt bivelee that I cluod aluctlay uertasnndd what I was rineadg : the pnoeemanhl peowr of the human mind .\n"
          ],
          "name": "stdout"
        }
      ]
    },
    {
      "cell_type": "code",
      "metadata": {
        "id": "eX1k00zM6XfR"
      },
      "source": [
        ""
      ],
      "execution_count": null,
      "outputs": []
    }
  ]
}