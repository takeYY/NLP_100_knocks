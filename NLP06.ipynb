{
  "nbformat": 4,
  "nbformat_minor": 0,
  "metadata": {
    "colab": {
      "name": "NLP06.ipynb",
      "provenance": [],
      "collapsed_sections": [],
      "toc_visible": true
    },
    "kernelspec": {
      "name": "python3",
      "display_name": "Python 3"
    }
  },
  "cells": [
    {
      "cell_type": "markdown",
      "metadata": {
        "id": "ftUgTkg5gKcZ"
      },
      "source": [
        "# 第6章: 機械学習"
      ]
    },
    {
      "cell_type": "markdown",
      "metadata": {
        "id": "FhMccwn4gRld"
      },
      "source": [
        "本章では，Fabio Gasparetti氏が公開しているNews Aggregator Data Setを用い，ニュース記事の見出しを「ビジネス」「科学技術」「エンターテイメント」「健康」のカテゴリに分類するタスク（カテゴリ分類）に取り組む．"
      ]
    },
    {
      "cell_type": "code",
      "metadata": {
        "id": "UJyw-lezisSa"
      },
      "source": [
        "!wget https://archive.ics.uci.edu/ml/machine-learning-databases/00359/NewsAggregatorDataset.zip\n",
        "!unzip NewsAggregatorDataset.zip\n",
        "# 読込時のエラー回避のためダブルクォーテーションをシングルクォーテーションに置換\n",
        "!sed -e 's/\"/'\\''/g' ./newsCorpora.csv > ./newsCorpora_re.csv"
      ],
      "execution_count": null,
      "outputs": []
    },
    {
      "cell_type": "markdown",
      "metadata": {
        "id": "ZDncX3cygZAG"
      },
      "source": [
        "## 50. データの入手・整形"
      ]
    },
    {
      "cell_type": "markdown",
      "metadata": {
        "id": "aVkGlXJ5gcDj"
      },
      "source": [
        "News Aggregator Data Setをダウンロードし，以下の要領で学習データ（train.txt），検証データ（valid.txt），評価データ（test.txt）を作成せよ．\n",
        "\n",
        "1. ダウンロードしたzipファイルを解凍し，readme.txtの説明を読む．\n",
        "2. 情報源（publisher）が”Reuters”, “Huffington Post”, “Businessweek”, “Contactmusic.com”, “Daily Mail”の事例（記事）のみを抽出する．\n",
        "3. 抽出された事例をランダムに並び替える．\n",
        "4. 抽出された事例の80%を学習データ，残りの10%ずつを検証データと評価データに分割し，それぞれtrain.txt，valid.txt，test.txtというファイル名で保存する．ファイルには，１行に１事例を書き出すこととし，カテゴリ名と記事見出しのタブ区切り形式とせよ（このファイルは後に問題70で再利用する）．\n",
        "\n",
        "学習データと評価データを作成したら，各カテゴリの事例数を確認せよ．"
      ]
    },
    {
      "cell_type": "code",
      "metadata": {
        "id": "Ps9bqfyfgA4N",
        "colab": {
          "base_uri": "https://localhost:8080/",
          "height": 34
        },
        "outputId": "3d9d356e-ba78-43ae-b0fc-005faea395a4"
      },
      "source": [
        "### 1 ###\n",
        "\"\"\"\n",
        "path = 'readme.txt'\n",
        "with open(path) as f:\n",
        "  s = f.read()\n",
        "  print(s)\n",
        "### \"\"\""
      ],
      "execution_count": 2,
      "outputs": [
        {
          "output_type": "execute_result",
          "data": {
            "application/vnd.google.colaboratory.intrinsic+json": {
              "type": "string"
            },
            "text/plain": [
              "\"\\npath = 'readme.txt'\\nwith open(path) as f:\\n  s = f.read()\\n  print(s)\\n### \""
            ]
          },
          "metadata": {
            "tags": []
          },
          "execution_count": 2
        }
      ]
    },
    {
      "cell_type": "code",
      "metadata": {
        "id": "wmeK3QBTlRvm",
        "colab": {
          "base_uri": "https://localhost:8080/"
        },
        "outputId": "ac1ffd1c-787c-4fad-f8a4-82f292c55fe6"
      },
      "source": [
        "### 2 ###\n",
        "import pandas as pd\n",
        "import numpy as np\n",
        "from sklearn.model_selection import train_test_split\n",
        "\n",
        "columns_name = ['ID', 'TITLE', 'URL', 'PUBLISHER', 'CATEGORY', 'STORY', 'HOSTNAME', 'TIMESTAMP']\n",
        "df = pd.read_csv('newsCorpora.csv', header=None, sep='\\t', names=columns_name)\n",
        "### 3 ###\n",
        "df = df.query(' PUBLISHER in [\"Reuters\", \"Huffington Post\", \"Businessweek\", \"Contactmusic.com\", \"Daily Mail\"] ').sample(frac=1).reset_index(drop=True)\n",
        "### 4 ###\n",
        "train, valid_test = train_test_split(df, test_size=0.2, shuffle=True, random_state=144, stratify=df['CATEGORY'])\n",
        "valid, test = train_test_split(valid_test, test_size=0.5, shuffle=True, random_state=144, stratify=valid_test['CATEGORY'])\n",
        "\n",
        "train.to_csv('train.txt', sep='\\t', index=False)\n",
        "valid.to_csv('valid.txt', sep='\\t', index=False)\n",
        "test.to_csv('test.txt', sep='\\t', index=False)\n",
        "\n",
        "print(f'{\"=\"*5}train{\"=\"*5}\\n {train[\"CATEGORY\"].value_counts()}\\n')\n",
        "print(f'{\"=\"*5}valid{\"=\"*5}\\n {valid[\"CATEGORY\"].value_counts()}\\n')\n",
        "print(f'{\"=\"*5}test{\"=\"*5}\\n {test[\"CATEGORY\"].value_counts()}\\n')"
      ],
      "execution_count": 3,
      "outputs": [
        {
          "output_type": "stream",
          "text": [
            "=====train=====\n",
            " b    4502\n",
            "e    4223\n",
            "t    1219\n",
            "m     728\n",
            "Name: CATEGORY, dtype: int64\n",
            "\n",
            "=====valid=====\n",
            " b    563\n",
            "e    528\n",
            "t    152\n",
            "m     91\n",
            "Name: CATEGORY, dtype: int64\n",
            "\n",
            "=====test=====\n",
            " b    562\n",
            "e    528\n",
            "t    153\n",
            "m     91\n",
            "Name: CATEGORY, dtype: int64\n",
            "\n"
          ],
          "name": "stdout"
        }
      ]
    },
    {
      "cell_type": "markdown",
      "metadata": {
        "id": "GBQHNYqgyf3P"
      },
      "source": [
        "## 51. 特徴量抽出"
      ]
    },
    {
      "cell_type": "markdown",
      "metadata": {
        "id": "Bkhs5oGZ0Dw2"
      },
      "source": [
        "学習データ，検証データ，評価データから特徴量を抽出し，それぞれ`train.feature.txt`，`valid.feature.txt`，`test.feature.txt`というファイル名で保存せよ． なお，カテゴリ分類に有用そうな特徴量は各自で自由に設計せよ．記事の見出しを単語列に変換したものが最低限のベースラインとなるであろう．"
      ]
    },
    {
      "cell_type": "code",
      "metadata": {
        "id": "OUtmagD-lgwo",
        "colab": {
          "base_uri": "https://localhost:8080/",
          "height": 1000
        },
        "outputId": "b63379b0-d96e-4653-be4f-32a737662a86"
      },
      "source": [
        "df.head(10)"
      ],
      "execution_count": 4,
      "outputs": [
        {
          "output_type": "execute_result",
          "data": {
            "text/html": [
              "<div>\n",
              "<style scoped>\n",
              "    .dataframe tbody tr th:only-of-type {\n",
              "        vertical-align: middle;\n",
              "    }\n",
              "\n",
              "    .dataframe tbody tr th {\n",
              "        vertical-align: top;\n",
              "    }\n",
              "\n",
              "    .dataframe thead th {\n",
              "        text-align: right;\n",
              "    }\n",
              "</style>\n",
              "<table border=\"1\" class=\"dataframe\">\n",
              "  <thead>\n",
              "    <tr style=\"text-align: right;\">\n",
              "      <th></th>\n",
              "      <th>ID</th>\n",
              "      <th>TITLE</th>\n",
              "      <th>URL</th>\n",
              "      <th>PUBLISHER</th>\n",
              "      <th>CATEGORY</th>\n",
              "      <th>STORY</th>\n",
              "      <th>HOSTNAME</th>\n",
              "      <th>TIMESTAMP</th>\n",
              "    </tr>\n",
              "  </thead>\n",
              "  <tbody>\n",
              "    <tr>\n",
              "      <th>0</th>\n",
              "      <td>276659</td>\n",
              "      <td>Fitch Downgrades Remy Cointreau SA to 'BB+'; O...</td>\n",
              "      <td>http://www.reuters.com/article/2014/06/10/fitc...</td>\n",
              "      <td>Reuters</td>\n",
              "      <td>b</td>\n",
              "      <td>dAZC0aRMk1ONyvMUjTyEB_iZmrZLM</td>\n",
              "      <td>www.reuters.com</td>\n",
              "      <td>1402654004566</td>\n",
              "    </tr>\n",
              "    <tr>\n",
              "      <th>1</th>\n",
              "      <td>273212</td>\n",
              "      <td>Dai-Ichi Life to buy Protective Life for $5.7 ...</td>\n",
              "      <td>http://in.reuters.com/article/2014/06/04/daiic...</td>\n",
              "      <td>Reuters</td>\n",
              "      <td>b</td>\n",
              "      <td>dCUjk7iNj5qQo4MvVktiMHmgm_T2M</td>\n",
              "      <td>in.reuters.com</td>\n",
              "      <td>1401889927814</td>\n",
              "    </tr>\n",
              "    <tr>\n",
              "      <th>2</th>\n",
              "      <td>399684</td>\n",
              "      <td>Driverless cars on British roads within a year...</td>\n",
              "      <td>http://www.dailymail.co.uk/sciencetech/article...</td>\n",
              "      <td>Daily Mail</td>\n",
              "      <td>t</td>\n",
              "      <td>dP5gkImN5YNcYlMacFv6I-Jdff81M</td>\n",
              "      <td>www.dailymail.co.uk</td>\n",
              "      <td>1406725348495</td>\n",
              "    </tr>\n",
              "    <tr>\n",
              "      <th>3</th>\n",
              "      <td>195431</td>\n",
              "      <td>Jennifer Lopez is blown away by Jena Irene's E...</td>\n",
              "      <td>http://www.dailymail.co.uk/tvshowbiz/article-2...</td>\n",
              "      <td>Daily Mail</td>\n",
              "      <td>e</td>\n",
              "      <td>dEvGnOAMPzBt6XMkIH9LpiULfLYSM</td>\n",
              "      <td>www.dailymail.co.uk</td>\n",
              "      <td>1399575952257</td>\n",
              "    </tr>\n",
              "    <tr>\n",
              "      <th>4</th>\n",
              "      <td>62575</td>\n",
              "      <td>Gwyneth Paltrow And Chris Martin's Split Anger...</td>\n",
              "      <td>http://www.contactmusic.com/article/gwyneth-pa...</td>\n",
              "      <td>Contactmusic.com</td>\n",
              "      <td>e</td>\n",
              "      <td>dD0tPP0taGNUTeM9SQMvlckAOCu3M</td>\n",
              "      <td>www.contactmusic.com</td>\n",
              "      <td>1396076743552</td>\n",
              "    </tr>\n",
              "    <tr>\n",
              "      <th>5</th>\n",
              "      <td>144265</td>\n",
              "      <td>Captain America beats up the competition at th...</td>\n",
              "      <td>http://www.dailymail.co.uk/tvshowbiz/article-2...</td>\n",
              "      <td>Daily Mail</td>\n",
              "      <td>e</td>\n",
              "      <td>doEnu8fR7PjyEfMFiIjTAlE34XjLM</td>\n",
              "      <td>www.dailymail.co.uk</td>\n",
              "      <td>1398060938704</td>\n",
              "    </tr>\n",
              "    <tr>\n",
              "      <th>6</th>\n",
              "      <td>367866</td>\n",
              "      <td>Deny the Merger: The Collusion of Verizon-Wire...</td>\n",
              "      <td>http://www.huffingtonpost.com/bruce-kushnick/d...</td>\n",
              "      <td>Huffington Post</td>\n",
              "      <td>t</td>\n",
              "      <td>dm0bAkZBAiPpD7Mwwc_PQd1BtH9HM</td>\n",
              "      <td>www.huffingtonpost.com</td>\n",
              "      <td>1404825424633</td>\n",
              "    </tr>\n",
              "    <tr>\n",
              "      <th>7</th>\n",
              "      <td>400844</td>\n",
              "      <td>Boeing to Build Largest 787 Dreamliner in Sout...</td>\n",
              "      <td>http://www.businessweek.com/news/2014-07-30/bo...</td>\n",
              "      <td>Businessweek</td>\n",
              "      <td>b</td>\n",
              "      <td>dWwpEduMQQLu8VMJHP-1jL0h6xvfM</td>\n",
              "      <td>www.businessweek.com</td>\n",
              "      <td>1406773343237</td>\n",
              "    </tr>\n",
              "    <tr>\n",
              "      <th>8</th>\n",
              "      <td>289577</td>\n",
              "      <td>Kris Jenner - Kris Jenner wants circus wedding...</td>\n",
              "      <td>http://www.contactmusic.com/story/kris-jenner-...</td>\n",
              "      <td>Contactmusic.com</td>\n",
              "      <td>e</td>\n",
              "      <td>doavUp3LtOyQ8RMWJQlb_fhTA3GlM</td>\n",
              "      <td>www.contactmusic.com</td>\n",
              "      <td>1402869587772</td>\n",
              "    </tr>\n",
              "    <tr>\n",
              "      <th>9</th>\n",
              "      <td>373757</td>\n",
              "      <td>Ellen Degeneres - Ellen Degeneres Makes $15 Mi...</td>\n",
              "      <td>http://www.contactmusic.com/story/ellen-degene...</td>\n",
              "      <td>Contactmusic.com</td>\n",
              "      <td>e</td>\n",
              "      <td>diBHl3E_FLE0OxMplZvzbEezdS10M</td>\n",
              "      <td>www.contactmusic.com</td>\n",
              "      <td>1404917855099</td>\n",
              "    </tr>\n",
              "  </tbody>\n",
              "</table>\n",
              "</div>"
            ],
            "text/plain": [
              "       ID  ...      TIMESTAMP\n",
              "0  276659  ...  1402654004566\n",
              "1  273212  ...  1401889927814\n",
              "2  399684  ...  1406725348495\n",
              "3  195431  ...  1399575952257\n",
              "4   62575  ...  1396076743552\n",
              "5  144265  ...  1398060938704\n",
              "6  367866  ...  1404825424633\n",
              "7  400844  ...  1406773343237\n",
              "8  289577  ...  1402869587772\n",
              "9  373757  ...  1404917855099\n",
              "\n",
              "[10 rows x 8 columns]"
            ]
          },
          "metadata": {
            "tags": []
          },
          "execution_count": 4
        }
      ]
    },
    {
      "cell_type": "code",
      "metadata": {
        "id": "4WXnt_oC0doc",
        "colab": {
          "base_uri": "https://localhost:8080/",
          "height": 1000
        },
        "outputId": "b39872bf-a4c0-457a-ed88-51c8871dd3c2"
      },
      "source": [
        "train_mid = train.copy()\n",
        "valid_mid = valid.copy()\n",
        "test_mid = test.copy()\n",
        "\n",
        "train_mid['split_type'] = 'train'\n",
        "valid_mid['split_type'] = 'valid'\n",
        "test_mid['split_type'] = 'test'\n",
        "\n",
        "all_data = pd.concat([train_mid, valid_mid, test_mid]).reset_index(drop=True)\n",
        "all_data.head(10)"
      ],
      "execution_count": 5,
      "outputs": [
        {
          "output_type": "execute_result",
          "data": {
            "text/html": [
              "<div>\n",
              "<style scoped>\n",
              "    .dataframe tbody tr th:only-of-type {\n",
              "        vertical-align: middle;\n",
              "    }\n",
              "\n",
              "    .dataframe tbody tr th {\n",
              "        vertical-align: top;\n",
              "    }\n",
              "\n",
              "    .dataframe thead th {\n",
              "        text-align: right;\n",
              "    }\n",
              "</style>\n",
              "<table border=\"1\" class=\"dataframe\">\n",
              "  <thead>\n",
              "    <tr style=\"text-align: right;\">\n",
              "      <th></th>\n",
              "      <th>ID</th>\n",
              "      <th>TITLE</th>\n",
              "      <th>URL</th>\n",
              "      <th>PUBLISHER</th>\n",
              "      <th>CATEGORY</th>\n",
              "      <th>STORY</th>\n",
              "      <th>HOSTNAME</th>\n",
              "      <th>TIMESTAMP</th>\n",
              "      <th>split_type</th>\n",
              "    </tr>\n",
              "  </thead>\n",
              "  <tbody>\n",
              "    <tr>\n",
              "      <th>0</th>\n",
              "      <td>397611</td>\n",
              "      <td>Sierra Leone Is New Epicenter of Ebola Outbrea...</td>\n",
              "      <td>http://www.businessweek.com/news/2014-07-29/si...</td>\n",
              "      <td>Businessweek</td>\n",
              "      <td>m</td>\n",
              "      <td>dPRAtkMW90_wGQMNUTOqHxTcZ72oM</td>\n",
              "      <td>www.businessweek.com</td>\n",
              "      <td>1406670184284</td>\n",
              "      <td>train</td>\n",
              "    </tr>\n",
              "    <tr>\n",
              "      <th>1</th>\n",
              "      <td>364617</td>\n",
              "      <td>Corn Avalanche Coming as Rain Trumps US Planti...</td>\n",
              "      <td>http://www.businessweek.com/news/2014-07-06/co...</td>\n",
              "      <td>Businessweek</td>\n",
              "      <td>b</td>\n",
              "      <td>d0CNcutiQwOuUYMH4j1yxlDjwJ8gM</td>\n",
              "      <td>www.businessweek.com</td>\n",
              "      <td>1404755754494</td>\n",
              "      <td>train</td>\n",
              "    </tr>\n",
              "    <tr>\n",
              "      <th>2</th>\n",
              "      <td>55444</td>\n",
              "      <td>Autism Rate Has Increased -- 1 In 68 Kids Now ...</td>\n",
              "      <td>http://www.huffingtonpost.com/2014/03/27/autis...</td>\n",
              "      <td>Huffington Post</td>\n",
              "      <td>m</td>\n",
              "      <td>dn3vkwT6-TdkIXMiRXPpYCyb8-pTM</td>\n",
              "      <td>www.huffingtonpost.com</td>\n",
              "      <td>1395967639410</td>\n",
              "      <td>train</td>\n",
              "    </tr>\n",
              "    <tr>\n",
              "      <th>3</th>\n",
              "      <td>372069</td>\n",
              "      <td>FOREX-Kiwi firm near 3-year high; greenback aw...</td>\n",
              "      <td>http://in.reuters.com/article/2014/07/09/marke...</td>\n",
              "      <td>Reuters</td>\n",
              "      <td>b</td>\n",
              "      <td>dyutEFDUhlu4tsMnZwi-wssrzIb-M</td>\n",
              "      <td>in.reuters.com</td>\n",
              "      <td>1404903597294</td>\n",
              "      <td>train</td>\n",
              "    </tr>\n",
              "    <tr>\n",
              "      <th>4</th>\n",
              "      <td>321229</td>\n",
              "      <td>Thousands of North Koreans attended huge Pyong...</td>\n",
              "      <td>http://www.dailymail.co.uk/news/article-267039...</td>\n",
              "      <td>Daily Mail</td>\n",
              "      <td>e</td>\n",
              "      <td>dGrAtU0IrYK0V5MBepXMiSz86OFSM</td>\n",
              "      <td>www.dailymail.co.uk</td>\n",
              "      <td>1403804903090</td>\n",
              "      <td>train</td>\n",
              "    </tr>\n",
              "    <tr>\n",
              "      <th>5</th>\n",
              "      <td>185883</td>\n",
              "      <td>Republicans Portray Obama Climate Push As A Di...</td>\n",
              "      <td>http://www.huffingtonpost.com/2014/05/06/repub...</td>\n",
              "      <td>Huffington Post</td>\n",
              "      <td>t</td>\n",
              "      <td>dTCdVumx5cP8FmMQW1EE_uDjklwNM</td>\n",
              "      <td>www.huffingtonpost.com</td>\n",
              "      <td>1399443091353</td>\n",
              "      <td>train</td>\n",
              "    </tr>\n",
              "    <tr>\n",
              "      <th>6</th>\n",
              "      <td>141206</td>\n",
              "      <td>UPDATE 1-Toyota to launch China-made Corolla, ...</td>\n",
              "      <td>http://in.reuters.com/article/2014/04/20/autos...</td>\n",
              "      <td>Reuters</td>\n",
              "      <td>b</td>\n",
              "      <td>dvCPexIFW0jYxBM_2UStT7xM7zgHM</td>\n",
              "      <td>in.reuters.com</td>\n",
              "      <td>1397998702081</td>\n",
              "      <td>train</td>\n",
              "    </tr>\n",
              "    <tr>\n",
              "      <th>7</th>\n",
              "      <td>402400</td>\n",
              "      <td>UPDATE 2-Hyundai recalls 883000 Sonata sedans ...</td>\n",
              "      <td>http://in.reuters.com/article/2014/07/30/hyund...</td>\n",
              "      <td>Reuters</td>\n",
              "      <td>t</td>\n",
              "      <td>dFfHbuzWA3vUlvMV5bNBUtpOkfrPM</td>\n",
              "      <td>in.reuters.com</td>\n",
              "      <td>1406788509625</td>\n",
              "      <td>train</td>\n",
              "    </tr>\n",
              "    <tr>\n",
              "      <th>8</th>\n",
              "      <td>89894</td>\n",
              "      <td>Peaches Geldof - Peaches Geldof was devoted to...</td>\n",
              "      <td>http://www.contactmusic.com/story/peaches-geld...</td>\n",
              "      <td>Contactmusic.com</td>\n",
              "      <td>e</td>\n",
              "      <td>dbkX8-vtewxCqcMTbv2ELSzyqzFNM</td>\n",
              "      <td>www.contactmusic.com</td>\n",
              "      <td>1396938355976</td>\n",
              "      <td>train</td>\n",
              "    </tr>\n",
              "    <tr>\n",
              "      <th>9</th>\n",
              "      <td>113712</td>\n",
              "      <td>Mumsnet users' data stolen by Heartbleed bug h...</td>\n",
              "      <td>http://www.dailymail.co.uk/news/article-260448...</td>\n",
              "      <td>Daily Mail</td>\n",
              "      <td>t</td>\n",
              "      <td>diKDT8VhWvti9XMwdzRcC9iC7A0_M</td>\n",
              "      <td>www.dailymail.co.uk</td>\n",
              "      <td>1397515692606</td>\n",
              "      <td>train</td>\n",
              "    </tr>\n",
              "  </tbody>\n",
              "</table>\n",
              "</div>"
            ],
            "text/plain": [
              "       ID  ... split_type\n",
              "0  397611  ...      train\n",
              "1  364617  ...      train\n",
              "2   55444  ...      train\n",
              "3  372069  ...      train\n",
              "4  321229  ...      train\n",
              "5  185883  ...      train\n",
              "6  141206  ...      train\n",
              "7  402400  ...      train\n",
              "8   89894  ...      train\n",
              "9  113712  ...      train\n",
              "\n",
              "[10 rows x 9 columns]"
            ]
          },
          "metadata": {
            "tags": []
          },
          "execution_count": 5
        }
      ]
    },
    {
      "cell_type": "code",
      "metadata": {
        "id": "AWichzUIWq8i"
      },
      "source": [
        "import string\n",
        "import re\n",
        "\n",
        "def preprocessing(text):\n",
        "  table = str.maketrans(string.punctuation, ' '*len(string.punctuation))\n",
        "  text = text.translate(table).lower() ## 記号をスペースに置換し，小文字化する\n",
        "  text = re.sub('[0-9]+', '0', text)   ## 数字列を0に置換\n",
        "\n",
        "  return text"
      ],
      "execution_count": 6,
      "outputs": []
    },
    {
      "cell_type": "code",
      "metadata": {
        "id": "cR1UHfMOXsqW",
        "colab": {
          "base_uri": "https://localhost:8080/",
          "height": 617
        },
        "outputId": "8bb6ffa0-29c9-4fe3-a5c2-2330a36176b8"
      },
      "source": [
        "all_data['TITLE'] = all_data['TITLE'].map(preprocessing)\n",
        "all_data.head()"
      ],
      "execution_count": 7,
      "outputs": [
        {
          "output_type": "execute_result",
          "data": {
            "text/html": [
              "<div>\n",
              "<style scoped>\n",
              "    .dataframe tbody tr th:only-of-type {\n",
              "        vertical-align: middle;\n",
              "    }\n",
              "\n",
              "    .dataframe tbody tr th {\n",
              "        vertical-align: top;\n",
              "    }\n",
              "\n",
              "    .dataframe thead th {\n",
              "        text-align: right;\n",
              "    }\n",
              "</style>\n",
              "<table border=\"1\" class=\"dataframe\">\n",
              "  <thead>\n",
              "    <tr style=\"text-align: right;\">\n",
              "      <th></th>\n",
              "      <th>ID</th>\n",
              "      <th>TITLE</th>\n",
              "      <th>URL</th>\n",
              "      <th>PUBLISHER</th>\n",
              "      <th>CATEGORY</th>\n",
              "      <th>STORY</th>\n",
              "      <th>HOSTNAME</th>\n",
              "      <th>TIMESTAMP</th>\n",
              "      <th>split_type</th>\n",
              "    </tr>\n",
              "  </thead>\n",
              "  <tbody>\n",
              "    <tr>\n",
              "      <th>0</th>\n",
              "      <td>397611</td>\n",
              "      <td>sierra leone is new epicenter of ebola outbrea...</td>\n",
              "      <td>http://www.businessweek.com/news/2014-07-29/si...</td>\n",
              "      <td>Businessweek</td>\n",
              "      <td>m</td>\n",
              "      <td>dPRAtkMW90_wGQMNUTOqHxTcZ72oM</td>\n",
              "      <td>www.businessweek.com</td>\n",
              "      <td>1406670184284</td>\n",
              "      <td>train</td>\n",
              "    </tr>\n",
              "    <tr>\n",
              "      <th>1</th>\n",
              "      <td>364617</td>\n",
              "      <td>corn avalanche coming as rain trumps us planti...</td>\n",
              "      <td>http://www.businessweek.com/news/2014-07-06/co...</td>\n",
              "      <td>Businessweek</td>\n",
              "      <td>b</td>\n",
              "      <td>d0CNcutiQwOuUYMH4j1yxlDjwJ8gM</td>\n",
              "      <td>www.businessweek.com</td>\n",
              "      <td>1404755754494</td>\n",
              "      <td>train</td>\n",
              "    </tr>\n",
              "    <tr>\n",
              "      <th>2</th>\n",
              "      <td>55444</td>\n",
              "      <td>autism rate has increased    0 in 0 kids now i...</td>\n",
              "      <td>http://www.huffingtonpost.com/2014/03/27/autis...</td>\n",
              "      <td>Huffington Post</td>\n",
              "      <td>m</td>\n",
              "      <td>dn3vkwT6-TdkIXMiRXPpYCyb8-pTM</td>\n",
              "      <td>www.huffingtonpost.com</td>\n",
              "      <td>1395967639410</td>\n",
              "      <td>train</td>\n",
              "    </tr>\n",
              "    <tr>\n",
              "      <th>3</th>\n",
              "      <td>372069</td>\n",
              "      <td>forex kiwi firm near 0 year high  greenback aw...</td>\n",
              "      <td>http://in.reuters.com/article/2014/07/09/marke...</td>\n",
              "      <td>Reuters</td>\n",
              "      <td>b</td>\n",
              "      <td>dyutEFDUhlu4tsMnZwi-wssrzIb-M</td>\n",
              "      <td>in.reuters.com</td>\n",
              "      <td>1404903597294</td>\n",
              "      <td>train</td>\n",
              "    </tr>\n",
              "    <tr>\n",
              "      <th>4</th>\n",
              "      <td>321229</td>\n",
              "      <td>thousands of north koreans attended huge pyong...</td>\n",
              "      <td>http://www.dailymail.co.uk/news/article-267039...</td>\n",
              "      <td>Daily Mail</td>\n",
              "      <td>e</td>\n",
              "      <td>dGrAtU0IrYK0V5MBepXMiSz86OFSM</td>\n",
              "      <td>www.dailymail.co.uk</td>\n",
              "      <td>1403804903090</td>\n",
              "      <td>train</td>\n",
              "    </tr>\n",
              "  </tbody>\n",
              "</table>\n",
              "</div>"
            ],
            "text/plain": [
              "       ID  ... split_type\n",
              "0  397611  ...      train\n",
              "1  364617  ...      train\n",
              "2   55444  ...      train\n",
              "3  372069  ...      train\n",
              "4  321229  ...      train\n",
              "\n",
              "[5 rows x 9 columns]"
            ]
          },
          "metadata": {
            "tags": []
          },
          "execution_count": 7
        }
      ]
    },
    {
      "cell_type": "code",
      "metadata": {
        "id": "CA5J7-D3bI6R"
      },
      "source": [
        "from sklearn.feature_extraction.text import TfidfVectorizer\n",
        "\n",
        "# データの分割\n",
        "train_valid = all_data[:len(train) + len(valid)]\n",
        "test = all_data[len(train) + len(valid):]\n",
        "\n",
        "# TfidfVectorizer\n",
        "# min_df:出現回数が指定した値以下の単語は排除する, ngram_range:(1,2)ならuni-gramとbi-gram\n",
        "vec_tfidf = TfidfVectorizer(min_df=10, ngram_range=(1, 2))\n",
        "\n",
        "# ベクトル化\n",
        "# fit_transform:fit()とtransform()を同時に行う, fit:入力の文書群を与えて，語彙の獲得やidfの計算, transform:fit()したことで得た語彙やidfを元に，文書をtf-idf行列に変換\n",
        "X_train_valid = vec_tfidf.fit_transform(train_valid['TITLE'])  # testの情報は使わない\n",
        "X_test = vec_tfidf.transform(test['TITLE'])\n",
        "\n",
        "# ベクトルをデータフレームに変換\n",
        "# toarray:リスト取得(tf-idfが0の要素も表示), get_feature_names:特徴量ラベル(=語彙)を取得(辞書順)\n",
        "X_train_valid = pd.DataFrame(X_train_valid.toarray(), columns=vec_tfidf.get_feature_names())\n",
        "X_test = pd.DataFrame(X_test.toarray(), columns=vec_tfidf.get_feature_names())\n",
        "\n",
        "# データの分割\n",
        "X_train = X_train_valid[:len(train)]\n",
        "X_valid = X_train_valid[len(train):]\n",
        "\n",
        "# データの保存\n",
        "X_train.to_csv('X_train.txt', sep='\\t', index=False)\n",
        "X_valid.to_csv('X_valid.txt', sep='\\t', index=False)\n",
        "X_test.to_csv('X_test.txt', sep='\\t', index=False)"
      ],
      "execution_count": 8,
      "outputs": []
    },
    {
      "cell_type": "code",
      "metadata": {
        "id": "rm4Sa1XSt6s_",
        "colab": {
          "base_uri": "https://localhost:8080/"
        },
        "outputId": "ec6e785d-d531-46d0-ad21-b8fae0a324c9"
      },
      "source": [
        "print(f'X_train: {len(X_train)}\\nX_valid: {len(X_valid)}\\nX_test: {len(X_test)}\\nsum: {len(X_train)+len(X_valid)+len(X_test)}\\nall_data: {len(all_data)}')"
      ],
      "execution_count": 9,
      "outputs": [
        {
          "output_type": "stream",
          "text": [
            "X_train: 10672\n",
            "X_valid: 1334\n",
            "X_test: 1334\n",
            "sum: 13340\n",
            "all_data: 13340\n"
          ],
          "name": "stdout"
        }
      ]
    },
    {
      "cell_type": "markdown",
      "metadata": {
        "id": "dgAiUEv1amOx"
      },
      "source": [
        "## 52. 学習"
      ]
    },
    {
      "cell_type": "markdown",
      "metadata": {
        "id": "MTSoqAjhaqKc"
      },
      "source": [
        "51で構築した学習データを用いて，ロジスティック回帰モデルを学習せよ．"
      ]
    },
    {
      "cell_type": "code",
      "metadata": {
        "id": "Ds8vDP4AHuUx",
        "colab": {
          "base_uri": "https://localhost:8080/"
        },
        "outputId": "3d408e15-6de4-4456-c119-205bc8255737"
      },
      "source": [
        "from sklearn.linear_model import LogisticRegression\n",
        "\n",
        "# モデルの学習\n",
        "lg = LogisticRegression(random_state=144, max_iter=144000)\n",
        "lg.fit(X_train, train['CATEGORY'])"
      ],
      "execution_count": 10,
      "outputs": [
        {
          "output_type": "execute_result",
          "data": {
            "text/plain": [
              "LogisticRegression(C=1.0, class_weight=None, dual=False, fit_intercept=True,\n",
              "                   intercept_scaling=1, l1_ratio=None, max_iter=144000,\n",
              "                   multi_class='auto', n_jobs=None, penalty='l2',\n",
              "                   random_state=144, solver='lbfgs', tol=0.0001, verbose=0,\n",
              "                   warm_start=False)"
            ]
          },
          "metadata": {
            "tags": []
          },
          "execution_count": 10
        }
      ]
    },
    {
      "cell_type": "markdown",
      "metadata": {
        "id": "dFTXX7ifbrbb"
      },
      "source": [
        "## 53. 予測"
      ]
    },
    {
      "cell_type": "markdown",
      "metadata": {
        "id": "XxhTQa_abu5c"
      },
      "source": [
        "52で学習したロジスティック回帰モデルを用い，与えられた記事見出しからカテゴリとその予測確率を計算するプログラムを実装せよ．"
      ]
    },
    {
      "cell_type": "code",
      "metadata": {
        "id": "GnGXYz-qbqqp"
      },
      "source": [
        "import numpy as np\n",
        "\n",
        "def score_lg(lg, X):\n",
        "  return [np.max(lg.predict_proba(X), axis=1), lg.predict(X)]"
      ],
      "execution_count": 11,
      "outputs": []
    },
    {
      "cell_type": "code",
      "metadata": {
        "id": "E6vof5AXeOO4",
        "colab": {
          "base_uri": "https://localhost:8080/"
        },
        "outputId": "cde300a3-e83e-4a85-d3de-a8bb0278c219"
      },
      "source": [
        "train_pred = score_lg(lg, X_train)\n",
        "test_pred = score_lg(lg, X_test)\n",
        "\n",
        "train_pred"
      ],
      "execution_count": 12,
      "outputs": [
        {
          "output_type": "execute_result",
          "data": {
            "text/plain": [
              "[array([0.89136306, 0.79153422, 0.44581461, ..., 0.88746447, 0.7060326 ,\n",
              "        0.8518578 ]), array(['m', 'b', 'e', ..., 't', 'm', 'b'], dtype=object)]"
            ]
          },
          "metadata": {
            "tags": []
          },
          "execution_count": 12
        }
      ]
    },
    {
      "cell_type": "markdown",
      "metadata": {
        "id": "k_HW6Eaqe90Y"
      },
      "source": [
        "## 54. 正解率の計測"
      ]
    },
    {
      "cell_type": "markdown",
      "metadata": {
        "id": "csIvjB4YfB1B"
      },
      "source": [
        "52で学習したロジスティック回帰モデルの正解率を，学習データおよび評価データ上で計測せよ．"
      ]
    },
    {
      "cell_type": "code",
      "metadata": {
        "id": "xPp16-lEecvD",
        "colab": {
          "base_uri": "https://localhost:8080/"
        },
        "outputId": "897bfab9-206f-4242-a42d-02c890fe37a3"
      },
      "source": [
        "from sklearn.metrics import accuracy_score\n",
        "\n",
        "train_accuracy = accuracy_score(train['CATEGORY'], train_pred[1])\n",
        "test_accuracy = accuracy_score(test['CATEGORY'], test_pred[1])\n",
        "\n",
        "print(f'正解率（学習データ）：{train_accuracy:.3f}')\n",
        "print(f'正解率（評価データ）：{test_accuracy:.3f}')"
      ],
      "execution_count": 13,
      "outputs": [
        {
          "output_type": "stream",
          "text": [
            "正解率（学習データ）：0.924\n",
            "正解率（評価データ）：0.867\n"
          ],
          "name": "stdout"
        }
      ]
    },
    {
      "cell_type": "markdown",
      "metadata": {
        "id": "jkMDx_ZWgIt3"
      },
      "source": [
        "## 55. 混同行列の作成"
      ]
    },
    {
      "cell_type": "markdown",
      "metadata": {
        "id": "x0z81Rk6gQAk"
      },
      "source": [
        "52で学習したロジスティック回帰モデルの混同行列（confusion matrix）を，学習データおよび評価データ上で作成せよ．"
      ]
    },
    {
      "cell_type": "code",
      "metadata": {
        "id": "0dlPr2kygMHt"
      },
      "source": [
        "from sklearn.metrics import confusion_matrix\n",
        "import seaborn as sns\n",
        "import matplotlib.pyplot as plt"
      ],
      "execution_count": 14,
      "outputs": []
    },
    {
      "cell_type": "code",
      "metadata": {
        "id": "O4mjH8KRg547",
        "colab": {
          "base_uri": "https://localhost:8080/",
          "height": 331
        },
        "outputId": "dd79fd74-02e6-40d4-b5cb-8bce533322de"
      },
      "source": [
        "# 学習データ\n",
        "train_cm = confusion_matrix(train['CATEGORY'], train_pred[1])\n",
        "print(train_cm)\n",
        "\n",
        "# annot:Trueの場合セルに値を表示, cmap:Matplotlib のカラーマップまたは，オブジェクトを指定(詳細な色指定は以下参照)\n",
        "# https://matplotlib.org/examples/color/colormaps_reference.html\n",
        "sns.heatmap(train_cm, annot=True, cmap='OrRd')\n",
        "plt.show()"
      ],
      "execution_count": 15,
      "outputs": [
        {
          "output_type": "stream",
          "text": [
            "[[4351   86    8   57]\n",
            " [  60 4148    4   11]\n",
            " [  95  132  492    9]\n",
            " [ 196  147    8  868]]\n"
          ],
          "name": "stdout"
        },
        {
          "output_type": "display_data",
          "data": {
            "image/png": "[encoded data removed]",
            "text/plain": [
              "<Figure size 432x288 with 2 Axes>"
            ]
          },
          "metadata": {
            "tags": [],
            "needs_background": "light"
          }
        }
      ]
    },
    {
      "cell_type": "code",
      "metadata": {
        "id": "1SaB3HrQiX5v",
        "colab": {
          "base_uri": "https://localhost:8080/",
          "height": 331
        },
        "outputId": "e583ae19-747a-46c7-d7f8-66d4385cd280"
      },
      "source": [
        "# 評価データ\n",
        "test_cm = confusion_matrix(test['CATEGORY'], test_pred[1])\n",
        "print(test_cm)\n",
        "\n",
        "sns.heatmap(test_cm, annot=True, cmap='OrRd')\n",
        "plt.show()"
      ],
      "execution_count": 16,
      "outputs": [
        {
          "output_type": "stream",
          "text": [
            "[[531  16   1  14]\n",
            " [ 21 501   3   3]\n",
            " [ 23  21  43   4]\n",
            " [ 43  27   2  81]]\n"
          ],
          "name": "stdout"
        },
        {
          "output_type": "display_data",
          "data": {
            "image/png": "[encoded data removed]",
            "text/plain": [
              "<Figure size 432x288 with 2 Axes>"
            ]
          },
          "metadata": {
            "tags": [],
            "needs_background": "light"
          }
        }
      ]
    },
    {
      "cell_type": "markdown",
      "metadata": {
        "id": "pnIVE6XsjTEf"
      },
      "source": [
        "## 56. 適合率，再現率，F1スコアの計測"
      ]
    },
    {
      "cell_type": "markdown",
      "metadata": {
        "id": "ZVZu4nBIjaGI"
      },
      "source": [
        "52で学習したロジスティック回帰モデルの適合率，再現率，F1スコアを，評価データ上で計測せよ．カテゴリごとに適合率，再現率，F1スコアを求め，カテゴリごとの性能をマイクロ平均（micro-average）とマクロ平均（macro-average）で統合せよ．"
      ]
    },
    {
      "cell_type": "code",
      "metadata": {
        "id": "7DlGrrdAjCaw"
      },
      "source": [
        "from sklearn.metrics import precision_score, recall_score, f1_score\n",
        "\n",
        "def calc_scores(y_true, y_pred):\n",
        "  col_list = ['b', 'e', 't', 'm', 'マイクロ平均', 'マクロ平均']\n",
        "\n",
        "  # 適合率（デフォルトでは1が陽性として算出）\n",
        "  # average:Noneの場合，0, 1をそれぞれ陽性としたときの値がリストとして返る\n",
        "  # average:'micro'の場合，陽性・陰性を入れ替えたそれぞれの状態でのTPやFP，FNの合計から適合率などを算出\n",
        "  # average:'macro'の場合，陽性・陰性を入れ替えて算出した2つの値の算術平均\n",
        "  # labels:軸の順番を指定\n",
        "  precision = precision_score(test['CATEGORY'], test_pred[1], average=None, labels=col_list[:4])\n",
        "  precision = np.append(precision, precision_score(y_true, y_pred, average='micro'))\n",
        "  precision = np.append(precision, precision_score(y_true, y_pred, average='macro'))\n",
        "\n",
        "  # 再現率\n",
        "  recall = recall_score(test['CATEGORY'], test_pred[1], average=None, labels=col_list[:4])\n",
        "  recall = np.append(recall, recall_score(y_true, y_pred, average='micro'))\n",
        "  recall = np.append(recall, recall_score(y_true, y_pred, average='macro'))\n",
        "\n",
        "  # F1スコア\n",
        "  f1 = f1_score(test['CATEGORY'], test_pred[1], average=None, labels=col_list[:4])\n",
        "  f1 = np.append(f1, f1_score(y_true, y_pred, average='micro'))\n",
        "  f1 = np.append(f1, f1_score(y_true, y_pred, average='macro'))\n",
        "\n",
        "  # 結果を結合\n",
        "  scores = pd.DataFrame({'適合率': precision, '再現率': recall, 'F1スコア': f1}, index=col_list)\n",
        "  return scores"
      ],
      "execution_count": 17,
      "outputs": []
    },
    {
      "cell_type": "code",
      "metadata": {
        "id": "Cj6dwwnDogYZ",
        "colab": {
          "base_uri": "https://localhost:8080/",
          "height": 227
        },
        "outputId": "2ef3b8d5-b7a2-44ac-ad26-7fc08bade5fb"
      },
      "source": [
        "calc_scores(test['CATEGORY'], test_pred[1])"
      ],
      "execution_count": 18,
      "outputs": [
        {
          "output_type": "execute_result",
          "data": {
            "text/html": [
              "<div>\n",
              "<style scoped>\n",
              "    .dataframe tbody tr th:only-of-type {\n",
              "        vertical-align: middle;\n",
              "    }\n",
              "\n",
              "    .dataframe tbody tr th {\n",
              "        vertical-align: top;\n",
              "    }\n",
              "\n",
              "    .dataframe thead th {\n",
              "        text-align: right;\n",
              "    }\n",
              "</style>\n",
              "<table border=\"1\" class=\"dataframe\">\n",
              "  <thead>\n",
              "    <tr style=\"text-align: right;\">\n",
              "      <th></th>\n",
              "      <th>適合率</th>\n",
              "      <th>再現率</th>\n",
              "      <th>F1スコア</th>\n",
              "    </tr>\n",
              "  </thead>\n",
              "  <tbody>\n",
              "    <tr>\n",
              "      <th>b</th>\n",
              "      <td>0.859223</td>\n",
              "      <td>0.944840</td>\n",
              "      <td>0.900000</td>\n",
              "    </tr>\n",
              "    <tr>\n",
              "      <th>e</th>\n",
              "      <td>0.886726</td>\n",
              "      <td>0.948864</td>\n",
              "      <td>0.916743</td>\n",
              "    </tr>\n",
              "    <tr>\n",
              "      <th>t</th>\n",
              "      <td>0.794118</td>\n",
              "      <td>0.529412</td>\n",
              "      <td>0.635294</td>\n",
              "    </tr>\n",
              "    <tr>\n",
              "      <th>m</th>\n",
              "      <td>0.877551</td>\n",
              "      <td>0.472527</td>\n",
              "      <td>0.614286</td>\n",
              "    </tr>\n",
              "    <tr>\n",
              "      <th>マイクロ平均</th>\n",
              "      <td>0.866567</td>\n",
              "      <td>0.866567</td>\n",
              "      <td>0.866567</td>\n",
              "    </tr>\n",
              "    <tr>\n",
              "      <th>マクロ平均</th>\n",
              "      <td>0.854404</td>\n",
              "      <td>0.723911</td>\n",
              "      <td>0.766581</td>\n",
              "    </tr>\n",
              "  </tbody>\n",
              "</table>\n",
              "</div>"
            ],
            "text/plain": [
              "             適合率       再現率     F1スコア\n",
              "b       0.859223  0.944840  0.900000\n",
              "e       0.886726  0.948864  0.916743\n",
              "t       0.794118  0.529412  0.635294\n",
              "m       0.877551  0.472527  0.614286\n",
              "マイクロ平均  0.866567  0.866567  0.866567\n",
              "マクロ平均   0.854404  0.723911  0.766581"
            ]
          },
          "metadata": {
            "tags": []
          },
          "execution_count": 18
        }
      ]
    },
    {
      "cell_type": "markdown",
      "metadata": {
        "id": "BX5guZBLrXjB"
      },
      "source": [
        "## 57. 特徴量の重みの確認"
      ]
    },
    {
      "cell_type": "markdown",
      "metadata": {
        "id": "4LEzbbEcra6G"
      },
      "source": [
        "52で学習したロジスティック回帰モデルの中で，重みの高い特徴量トップ10と，重みの低い特徴量トップ10を確認せよ．"
      ]
    },
    {
      "cell_type": "code",
      "metadata": {
        "id": "WqBsEkfOracj",
        "colab": {
          "base_uri": "https://localhost:8080/",
          "height": 581
        },
        "outputId": "068e97bb-e896-4069-b9e1-5e9e0b05e06b"
      },
      "source": [
        "features = X_train.columns.values\n",
        "index = [i for i in range(1, 11)]\n",
        "for c, coef in zip(lg.classes_, lg.coef_):\n",
        "  print(f'【カテゴリ】{c}')\n",
        "  best10 = pd.DataFrame(features[np.argsort(coef)[::-1][:10]], columns=['重要度上位'], index=index).T\n",
        "  worst10 = pd.DataFrame(features[np.argsort(coef)[:10]], columns=['重要度下位'], index=index).T\n",
        "  display(pd.concat([best10, worst10], axis=0))\n",
        "  print('\\n')"
      ],
      "execution_count": 19,
      "outputs": [
        {
          "output_type": "stream",
          "text": [
            "【カテゴリ】b\n"
          ],
          "name": "stdout"
        },
        {
          "output_type": "display_data",
          "data": {
            "text/html": [
              "<div>\n",
              "<style scoped>\n",
              "    .dataframe tbody tr th:only-of-type {\n",
              "        vertical-align: middle;\n",
              "    }\n",
              "\n",
              "    .dataframe tbody tr th {\n",
              "        vertical-align: top;\n",
              "    }\n",
              "\n",
              "    .dataframe thead th {\n",
              "        text-align: right;\n",
              "    }\n",
              "</style>\n",
              "<table border=\"1\" class=\"dataframe\">\n",
              "  <thead>\n",
              "    <tr style=\"text-align: right;\">\n",
              "      <th></th>\n",
              "      <th>1</th>\n",
              "      <th>2</th>\n",
              "      <th>3</th>\n",
              "      <th>4</th>\n",
              "      <th>5</th>\n",
              "      <th>6</th>\n",
              "      <th>7</th>\n",
              "      <th>8</th>\n",
              "      <th>9</th>\n",
              "      <th>10</th>\n",
              "    </tr>\n",
              "  </thead>\n",
              "  <tbody>\n",
              "    <tr>\n",
              "      <th>重要度上位</th>\n",
              "      <td>fed</td>\n",
              "      <td>ecb</td>\n",
              "      <td>bank</td>\n",
              "      <td>china</td>\n",
              "      <td>stocks</td>\n",
              "      <td>euro</td>\n",
              "      <td>oil</td>\n",
              "      <td>dollar</td>\n",
              "      <td>yellen</td>\n",
              "      <td>obamacare</td>\n",
              "    </tr>\n",
              "    <tr>\n",
              "      <th>重要度下位</th>\n",
              "      <td>and</td>\n",
              "      <td>ebola</td>\n",
              "      <td>video</td>\n",
              "      <td>her</td>\n",
              "      <td>google</td>\n",
              "      <td>aereo</td>\n",
              "      <td>apple</td>\n",
              "      <td>microsoft</td>\n",
              "      <td>star</td>\n",
              "      <td>drug</td>\n",
              "    </tr>\n",
              "  </tbody>\n",
              "</table>\n",
              "</div>"
            ],
            "text/plain": [
              "        1      2      3      4   ...     7          8       9          10\n",
              "重要度上位  fed    ecb   bank  china  ...    oil     dollar  yellen  obamacare\n",
              "重要度下位  and  ebola  video    her  ...  apple  microsoft    star       drug\n",
              "\n",
              "[2 rows x 10 columns]"
            ]
          },
          "metadata": {
            "tags": []
          }
        },
        {
          "output_type": "stream",
          "text": [
            "\n",
            "\n",
            "【カテゴリ】e\n"
          ],
          "name": "stdout"
        },
        {
          "output_type": "display_data",
          "data": {
            "text/html": [
              "<div>\n",
              "<style scoped>\n",
              "    .dataframe tbody tr th:only-of-type {\n",
              "        vertical-align: middle;\n",
              "    }\n",
              "\n",
              "    .dataframe tbody tr th {\n",
              "        vertical-align: top;\n",
              "    }\n",
              "\n",
              "    .dataframe thead th {\n",
              "        text-align: right;\n",
              "    }\n",
              "</style>\n",
              "<table border=\"1\" class=\"dataframe\">\n",
              "  <thead>\n",
              "    <tr style=\"text-align: right;\">\n",
              "      <th></th>\n",
              "      <th>1</th>\n",
              "      <th>2</th>\n",
              "      <th>3</th>\n",
              "      <th>4</th>\n",
              "      <th>5</th>\n",
              "      <th>6</th>\n",
              "      <th>7</th>\n",
              "      <th>8</th>\n",
              "      <th>9</th>\n",
              "      <th>10</th>\n",
              "    </tr>\n",
              "  </thead>\n",
              "  <tbody>\n",
              "    <tr>\n",
              "      <th>重要度上位</th>\n",
              "      <td>kardashian</td>\n",
              "      <td>chris</td>\n",
              "      <td>her</td>\n",
              "      <td>movie</td>\n",
              "      <td>film</td>\n",
              "      <td>star</td>\n",
              "      <td>jay</td>\n",
              "      <td>kim</td>\n",
              "      <td>she</td>\n",
              "      <td>jennifer</td>\n",
              "    </tr>\n",
              "    <tr>\n",
              "      <th>重要度下位</th>\n",
              "      <td>update</td>\n",
              "      <td>us</td>\n",
              "      <td>google</td>\n",
              "      <td>study</td>\n",
              "      <td>china</td>\n",
              "      <td>gm</td>\n",
              "      <td>says</td>\n",
              "      <td>facebook</td>\n",
              "      <td>data</td>\n",
              "      <td>billion</td>\n",
              "    </tr>\n",
              "  </tbody>\n",
              "</table>\n",
              "</div>"
            ],
            "text/plain": [
              "               1      2       3      4   ...    7         8     9         10\n",
              "重要度上位  kardashian  chris     her  movie  ...   jay       kim   she  jennifer\n",
              "重要度下位      update     us  google  study  ...  says  facebook  data   billion\n",
              "\n",
              "[2 rows x 10 columns]"
            ]
          },
          "metadata": {
            "tags": []
          }
        },
        {
          "output_type": "stream",
          "text": [
            "\n",
            "\n",
            "【カテゴリ】m\n"
          ],
          "name": "stdout"
        },
        {
          "output_type": "display_data",
          "data": {
            "text/html": [
              "<div>\n",
              "<style scoped>\n",
              "    .dataframe tbody tr th:only-of-type {\n",
              "        vertical-align: middle;\n",
              "    }\n",
              "\n",
              "    .dataframe tbody tr th {\n",
              "        vertical-align: top;\n",
              "    }\n",
              "\n",
              "    .dataframe thead th {\n",
              "        text-align: right;\n",
              "    }\n",
              "</style>\n",
              "<table border=\"1\" class=\"dataframe\">\n",
              "  <thead>\n",
              "    <tr style=\"text-align: right;\">\n",
              "      <th></th>\n",
              "      <th>1</th>\n",
              "      <th>2</th>\n",
              "      <th>3</th>\n",
              "      <th>4</th>\n",
              "      <th>5</th>\n",
              "      <th>6</th>\n",
              "      <th>7</th>\n",
              "      <th>8</th>\n",
              "      <th>9</th>\n",
              "      <th>10</th>\n",
              "    </tr>\n",
              "  </thead>\n",
              "  <tbody>\n",
              "    <tr>\n",
              "      <th>重要度上位</th>\n",
              "      <td>ebola</td>\n",
              "      <td>cancer</td>\n",
              "      <td>study</td>\n",
              "      <td>fda</td>\n",
              "      <td>drug</td>\n",
              "      <td>mers</td>\n",
              "      <td>cases</td>\n",
              "      <td>cdc</td>\n",
              "      <td>could</td>\n",
              "      <td>health</td>\n",
              "    </tr>\n",
              "    <tr>\n",
              "      <th>重要度下位</th>\n",
              "      <td>facebook</td>\n",
              "      <td>gm</td>\n",
              "      <td>google</td>\n",
              "      <td>deal</td>\n",
              "      <td>apple</td>\n",
              "      <td>bank</td>\n",
              "      <td>climate</td>\n",
              "      <td>ceo</td>\n",
              "      <td>sales</td>\n",
              "      <td>twitter</td>\n",
              "    </tr>\n",
              "  </tbody>\n",
              "</table>\n",
              "</div>"
            ],
            "text/plain": [
              "             1       2       3     4   ...       7    8      9        10\n",
              "重要度上位     ebola  cancer   study   fda  ...    cases  cdc  could   health\n",
              "重要度下位  facebook      gm  google  deal  ...  climate  ceo  sales  twitter\n",
              "\n",
              "[2 rows x 10 columns]"
            ]
          },
          "metadata": {
            "tags": []
          }
        },
        {
          "output_type": "stream",
          "text": [
            "\n",
            "\n",
            "【カテゴリ】t\n"
          ],
          "name": "stdout"
        },
        {
          "output_type": "display_data",
          "data": {
            "text/html": [
              "<div>\n",
              "<style scoped>\n",
              "    .dataframe tbody tr th:only-of-type {\n",
              "        vertical-align: middle;\n",
              "    }\n",
              "\n",
              "    .dataframe tbody tr th {\n",
              "        vertical-align: top;\n",
              "    }\n",
              "\n",
              "    .dataframe thead th {\n",
              "        text-align: right;\n",
              "    }\n",
              "</style>\n",
              "<table border=\"1\" class=\"dataframe\">\n",
              "  <thead>\n",
              "    <tr style=\"text-align: right;\">\n",
              "      <th></th>\n",
              "      <th>1</th>\n",
              "      <th>2</th>\n",
              "      <th>3</th>\n",
              "      <th>4</th>\n",
              "      <th>5</th>\n",
              "      <th>6</th>\n",
              "      <th>7</th>\n",
              "      <th>8</th>\n",
              "      <th>9</th>\n",
              "      <th>10</th>\n",
              "    </tr>\n",
              "  </thead>\n",
              "  <tbody>\n",
              "    <tr>\n",
              "      <th>重要度上位</th>\n",
              "      <td>google</td>\n",
              "      <td>facebook</td>\n",
              "      <td>apple</td>\n",
              "      <td>microsoft</td>\n",
              "      <td>climate</td>\n",
              "      <td>tesla</td>\n",
              "      <td>nasa</td>\n",
              "      <td>samsung</td>\n",
              "      <td>comcast</td>\n",
              "      <td>heartbleed</td>\n",
              "    </tr>\n",
              "    <tr>\n",
              "      <th>重要度下位</th>\n",
              "      <td>stocks</td>\n",
              "      <td>her</td>\n",
              "      <td>fed</td>\n",
              "      <td>percent</td>\n",
              "      <td>drug</td>\n",
              "      <td>cancer</td>\n",
              "      <td>ukraine</td>\n",
              "      <td>movie</td>\n",
              "      <td>american</td>\n",
              "      <td>his</td>\n",
              "    </tr>\n",
              "  </tbody>\n",
              "</table>\n",
              "</div>"
            ],
            "text/plain": [
              "           1         2      3   ...       8         9           10\n",
              "重要度上位  google  facebook  apple  ...  samsung   comcast  heartbleed\n",
              "重要度下位  stocks       her    fed  ...    movie  american         his\n",
              "\n",
              "[2 rows x 10 columns]"
            ]
          },
          "metadata": {
            "tags": []
          }
        },
        {
          "output_type": "stream",
          "text": [
            "\n",
            "\n"
          ],
          "name": "stdout"
        }
      ]
    },
    {
      "cell_type": "markdown",
      "metadata": {
        "id": "Qfkljr8qzdeo"
      },
      "source": [
        "## 58. 正則化パラメータの変更"
      ]
    },
    {
      "cell_type": "markdown",
      "metadata": {
        "id": "TMxuWr5QzgiH"
      },
      "source": [
        "ロジスティック回帰モデルを学習するとき，正則化パラメータを調整することで，学習時の過学習（overfitting）の度合いを制御できる．異なる正則化パラメータでロジスティック回帰モデルを学習し，学習データ，検証データ，および評価データ上の正解率を求めよ．実験の結果は，正則化パラメータを横軸，正解率を縦軸としたグラフにまとめよ．"
      ]
    },
    {
      "cell_type": "code",
      "metadata": {
        "id": "eimA96xCzgEP",
        "colab": {
          "base_uri": "https://localhost:8080/"
        },
        "outputId": "79c08ae5-91bf-4567-a96c-cfa26fc3e26c"
      },
      "source": [
        "from tqdm import tqdm\n",
        "\n",
        "result = []\n",
        "# np.logspace(開始指数部, 終了指数部, リストの数, base=基数)\n",
        "for C in tqdm(np.logspace(-3, 2, 10, base=10)):\n",
        "  # モデルの学習\n",
        "  lg = LogisticRegression(random_state=144, max_iter=144000, C=C)\n",
        "  lg.fit(X_train, train['CATEGORY'])\n",
        "\n",
        "  # 予測値の取得\n",
        "  train_pred = score_lg(lg, X_train)\n",
        "  valid_pred = score_lg(lg, X_valid)\n",
        "  test_pred = score_lg(lg, X_test)\n",
        "\n",
        "  # 正解率の算出\n",
        "  train_accuracy = accuracy_score(train['CATEGORY'], train_pred[1])\n",
        "  valid_accuracy = accuracy_score(valid['CATEGORY'], valid_pred[1])\n",
        "  test_accuracy = accuracy_score(test['CATEGORY'], test_pred[1])\n",
        "\n",
        "  # 結果の格納\n",
        "  result.append([C, train_accuracy, valid_accuracy, test_accuracy])"
      ],
      "execution_count": 20,
      "outputs": [
        {
          "output_type": "stream",
          "text": [
            "100%|██████████| 10/10 [04:18<00:00, 25.81s/it]\n"
          ],
          "name": "stderr"
        }
      ]
    },
    {
      "cell_type": "code",
      "metadata": {
        "id": "CQzKvqy852dL",
        "colab": {
          "base_uri": "https://localhost:8080/",
          "height": 283
        },
        "outputId": "06297ba2-596f-4b5f-8cf7-7bd8f9770ba9"
      },
      "source": [
        "# 視覚化\n",
        "result = np.array(result).T\n",
        "plt.plot(result[0], result[1], label='train')\n",
        "plt.plot(result[0], result[2], label='valid')\n",
        "plt.plot(result[0], result[3], label='test')\n",
        "plt.ylim(0, 1.1)\n",
        "plt.ylabel('Accuracy')\n",
        "plt.xscale ('log')\n",
        "plt.xlabel('C')\n",
        "plt.legend()\n",
        "plt.show()"
      ],
      "execution_count": 21,
      "outputs": [
        {
          "output_type": "display_data",
          "data": {
            "image/png": "[encoded data removed]",
            "text/plain": [
              "<Figure size 432x288 with 1 Axes>"
            ]
          },
          "metadata": {
            "tags": [],
            "needs_background": "light"
          }
        }
      ]
    },
    {
      "cell_type": "markdown",
      "metadata": {
        "id": "FeQtXTPT89p_"
      },
      "source": [
        "## 59. ハイパーパラメータの探索"
      ]
    },
    {
      "cell_type": "markdown",
      "metadata": {
        "id": "iMIhzKcp8_Mj"
      },
      "source": [
        "学習アルゴリズムや学習パラメータを変えながら，カテゴリ分類モデルを学習せよ．検証データ上の正解率が最も高くなる学習アルゴリズム・パラメータを求めよ．また，その学習アルゴリズム・パラメータを用いたときの評価データ上の正解率を求めよ．"
      ]
    },
    {
      "cell_type": "code",
      "metadata": {
        "id": "p_eJGU6y8-rW",
        "colab": {
          "base_uri": "https://localhost:8080/"
        },
        "outputId": "e58a84e4-3ad2-4a0d-e3ae-360d28edd355"
      },
      "source": [
        "!pip install optuna"
      ],
      "execution_count": 22,
      "outputs": [
        {
          "output_type": "stream",
          "text": [
            "Requirement already satisfied: optuna in /usr/local/lib/python3.6/dist-packages (2.3.0)\n",
            "Requirement already satisfied: cliff in /usr/local/lib/python3.6/dist-packages (from optuna) (3.5.0)\n",
            "Requirement already satisfied: packaging>=20.0 in /usr/local/lib/python3.6/dist-packages (from optuna) (20.4)\n",
            "Requirement already satisfied: scipy!=1.4.0 in /usr/local/lib/python3.6/dist-packages (from optuna) (1.4.1)\n",
            "Requirement already satisfied: joblib in /usr/local/lib/python3.6/dist-packages (from optuna) (0.17.0)\n",
            "Requirement already satisfied: cmaes>=0.6.0 in /usr/local/lib/python3.6/dist-packages (from optuna) (0.7.0)\n",
            "Requirement already satisfied: numpy in /usr/local/lib/python3.6/dist-packages (from optuna) (1.18.5)\n",
            "Requirement already satisfied: sqlalchemy>=1.1.0 in /usr/local/lib/python3.6/dist-packages (from optuna) (1.3.20)\n",
            "Requirement already satisfied: colorlog in /usr/local/lib/python3.6/dist-packages (from optuna) (4.6.2)\n",
            "Requirement already satisfied: tqdm in /usr/local/lib/python3.6/dist-packages (from optuna) (4.41.1)\n",
            "Requirement already satisfied: alembic in /usr/local/lib/python3.6/dist-packages (from optuna) (1.4.3)\n",
            "Requirement already satisfied: six>=1.10.0 in /usr/local/lib/python3.6/dist-packages (from cliff->optuna) (1.15.0)\n",
            "Requirement already satisfied: pbr!=2.1.0,>=2.0.0 in /usr/local/lib/python3.6/dist-packages (from cliff->optuna) (5.5.1)\n",
            "Requirement already satisfied: PyYAML>=3.12 in /usr/local/lib/python3.6/dist-packages (from cliff->optuna) (3.13)\n",
            "Requirement already satisfied: pyparsing>=2.1.0 in /usr/local/lib/python3.6/dist-packages (from cliff->optuna) (2.4.7)\n",
            "Requirement already satisfied: cmd2!=0.8.3,>=0.8.0 in /usr/local/lib/python3.6/dist-packages (from cliff->optuna) (1.4.0)\n",
            "Requirement already satisfied: stevedore>=2.0.1 in /usr/local/lib/python3.6/dist-packages (from cliff->optuna) (3.3.0)\n",
            "Requirement already satisfied: PrettyTable<0.8,>=0.7.2 in /usr/local/lib/python3.6/dist-packages (from cliff->optuna) (0.7.2)\n",
            "Requirement already satisfied: python-editor>=0.3 in /usr/local/lib/python3.6/dist-packages (from alembic->optuna) (1.0.4)\n",
            "Requirement already satisfied: Mako in /usr/local/lib/python3.6/dist-packages (from alembic->optuna) (1.1.3)\n",
            "Requirement already satisfied: python-dateutil in /usr/local/lib/python3.6/dist-packages (from alembic->optuna) (2.8.1)\n",
            "Requirement already satisfied: wcwidth>=0.1.7 in /usr/local/lib/python3.6/dist-packages (from cmd2!=0.8.3,>=0.8.0->cliff->optuna) (0.2.5)\n",
            "Requirement already satisfied: importlib-metadata>=1.6.0; python_version < \"3.8\" in /usr/local/lib/python3.6/dist-packages (from cmd2!=0.8.3,>=0.8.0->cliff->optuna) (2.0.0)\n",
            "Requirement already satisfied: colorama>=0.3.7 in /usr/local/lib/python3.6/dist-packages (from cmd2!=0.8.3,>=0.8.0->cliff->optuna) (0.4.4)\n",
            "Requirement already satisfied: attrs>=16.3.0 in /usr/local/lib/python3.6/dist-packages (from cmd2!=0.8.3,>=0.8.0->cliff->optuna) (20.3.0)\n",
            "Requirement already satisfied: pyperclip>=1.6 in /usr/local/lib/python3.6/dist-packages (from cmd2!=0.8.3,>=0.8.0->cliff->optuna) (1.8.1)\n",
            "Requirement already satisfied: MarkupSafe>=0.9.2 in /usr/local/lib/python3.6/dist-packages (from Mako->alembic->optuna) (1.1.1)\n",
            "Requirement already satisfied: zipp>=0.5 in /usr/local/lib/python3.6/dist-packages (from importlib-metadata>=1.6.0; python_version < \"3.8\"->cmd2!=0.8.3,>=0.8.0->cliff->optuna) (3.4.0)\n"
          ],
          "name": "stdout"
        }
      ]
    },
    {
      "cell_type": "code",
      "metadata": {
        "id": "dSYOkt_HAUH1"
      },
      "source": [
        "import optuna\n",
        "\n",
        "# 最適化対象を関数で指定\n",
        "def objective_lg(trial):\n",
        "  # チューニング対象パラメータのセット\n",
        "  l1_ratio = trial.suggest_uniform('l1_ratio', 0, 1)\n",
        "  C = trial.suggest_loguniform('C', 1e-4, 1e4)\n",
        "\n",
        "  # モデルの学習\n",
        "  lg = LogisticRegression(random_state=144,\n",
        "                          max_iter=14400,\n",
        "                          penalty='elasticnet',\n",
        "                          solver='saga',\n",
        "                          l1_ratio=l1_ratio,\n",
        "                          C=C)\n",
        "  lg.fit(X_train, train['CATEGORY'])\n",
        "\n",
        "  # 予測値の取得\n",
        "  valid_pred = score_lg(lg, X_valid)\n",
        "\n",
        "  # 正解率の算出\n",
        "  valid_accuracy = accuracy_score(valid['CATEGORY'], valid_pred[1])\n",
        "\n",
        "  return valid_accuracy"
      ],
      "execution_count": 24,
      "outputs": []
    },
    {
      "cell_type": "code",
      "metadata": {
        "id": "gSAths2EDfTZ"
      },
      "source": [
        "# 最適化\n",
        "study = optuna.create_study(direction='maximize')\n",
        "study.optimize(objective_lg, timeout=600) # timeout=秒数\n",
        "\n",
        "# 結果の表示\n",
        "print('Best trial:')\n",
        "trial = study.best_trial\n",
        "print('  Value: {:.3f}'.format(trial.value))\n",
        "print('  Params: ')\n",
        "for key, value in trial.params.items():\n",
        "  print('    {}: {}'.format(key, value))"
      ],
      "execution_count": null,
      "outputs": []
    },
    {
      "cell_type": "code",
      "metadata": {
        "colab": {
          "base_uri": "https://localhost:8080/"
        },
        "id": "bqsc_cARWl-2",
        "outputId": "5d71c101-4fc5-43cd-eda6-f579e508698d"
      },
      "source": [
        "# パラメータの設定\n",
        "l1_ratio = trial.params['l1_ratio']\n",
        "C = trial.params['C']\n",
        "\n",
        "# モデルの学習\n",
        "lg = LogisticRegression(random_state=144, \n",
        "                        max_iter=14400, \n",
        "                        penalty='elasticnet', \n",
        "                        solver='saga', \n",
        "                        l1_ratio=l1_ratio, \n",
        "                        C=C)\n",
        "lg.fit(X_train, train['CATEGORY'])\n",
        "\n",
        "# 予測値の取得\n",
        "train_pred = score_lg(lg, X_train)\n",
        "valid_pred = score_lg(lg, X_valid)\n",
        "test_pred = score_lg(lg, X_test)\n",
        "\n",
        "# 正解率の算出\n",
        "train_accuracy = accuracy_score(train['CATEGORY'], train_pred[1]) \n",
        "valid_accuracy = accuracy_score(valid['CATEGORY'], valid_pred[1]) \n",
        "test_accuracy = accuracy_score(test['CATEGORY'], test_pred[1]) \n",
        "\n",
        "print(f'正解率（学習データ）：{train_accuracy:.3f}')\n",
        "print(f'正解率（検証データ）：{valid_accuracy:.3f}')\n",
        "print(f'正解率（評価データ）：{test_accuracy:.3f}')"
      ],
      "execution_count": 27,
      "outputs": [
        {
          "output_type": "stream",
          "text": [
            "正解率（学習データ）：0.998\n",
            "正解率（検証データ）：0.864\n",
            "正解率（評価データ）：0.853\n"
          ],
          "name": "stdout"
        }
      ]
    }
  ]
}