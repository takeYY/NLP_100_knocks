{
  "nbformat": 4,
  "nbformat_minor": 0,
  "metadata": {
    "colab": {
      "name": "NLP04.ipynb",
      "provenance": [],
      "collapsed_sections": [],
      "toc_visible": true
    },
    "kernelspec": {
      "name": "python3",
      "display_name": "Python 3"
    }
  },
  "cells": [
    {
      "cell_type": "markdown",
      "metadata": {
        "id": "kgVi9FKhMh_8"
      },
      "source": [
        "# 第4章: 形態素解析"
      ]
    },
    {
      "cell_type": "markdown",
      "metadata": {
        "id": "vT29OLB2MnS-"
      },
      "source": [
        "夏目漱石の小説『吾輩は猫である』の文章（neko.txt）をMeCabを使って形態素解析し，その結果をneko.txt.mecabというファイルに保存せよ．このファイルを用いて，以下の問に対応するプログラムを実装せよ．  \n",
        "\n",
        "なお，問題37, 38, 39はmatplotlibもしくはGnuplotを用いるとよい．"
      ]
    },
    {
      "cell_type": "code",
      "metadata": {
        "id": "Ex1xgNJCMUkj"
      },
      "source": [
        "### 初回のみ実行\n",
        "!wget https://nlp100.github.io/data/neko.txt\n",
        "!apt install mecab libmecab-dev mecab-ipadic-utf8\n",
        "!mecab -o ./neko.txt.mecab ./neko.txt\n",
        "!pip install japanize-matplotlib"
      ],
      "execution_count": null,
      "outputs": []
    },
    {
      "cell_type": "markdown",
      "metadata": {
        "id": "c-2nOAMqNmK1"
      },
      "source": [
        "## 30. 形態素解析結果の読み込み"
      ]
    },
    {
      "cell_type": "markdown",
      "metadata": {
        "id": "ic4KYIp9NppN"
      },
      "source": [
        "形態素解析結果（neko.txt.mecab）を読み込むプログラムを実装せよ．ただし，各形態素は表層形（surface），基本形（base），品詞（pos），品詞細分類1（pos1）をキーとするマッピング型に格納し，1文を形態素（マッピング型）のリストとして表現せよ．第4章の残りの問題では，ここで作ったプログラムを活用せよ．"
      ]
    },
    {
      "cell_type": "code",
      "metadata": {
        "id": "H9Clp-lZM_wl",
        "outputId": "086b3730-ed3e-4466-a3b5-914172ff71dc",
        "colab": {
          "base_uri": "https://localhost:8080/",
          "height": 221
        }
      },
      "source": [
        "file_path = 'neko.txt.mecab'\n",
        "\n",
        "sentences = []\n",
        "morphs = []\n",
        "with open(file_path, mode='r') as f:\n",
        "  for line in f:  # 1行ずつ読込\n",
        "    if line != 'EOS\\n':  # 文末以外：形態素解析情報を辞書型に格納して形態素リストに追加\n",
        "      fields = line.split('\\t')\n",
        "      if len(fields) != 2 or fields[0] == '':  # 文頭以外の空白と改行文字はスキップ\n",
        "        continue\n",
        "      else:\n",
        "        attr =  fields[1].split(',')\n",
        "        morph = {'surface': fields[0], 'base': attr[6], 'pos': attr[0], 'pos1': attr[1]}\n",
        "        morphs.append(morph)\n",
        "    else:  # 文末：形態素リストを文リストに追加\n",
        "      sentences.append(morphs)\n",
        "      morphs = []\n",
        "\n",
        "# 確認用\n",
        "for line in sentences[5]:\n",
        "  print(line)"
      ],
      "execution_count": 2,
      "outputs": [
        {
          "output_type": "stream",
          "text": [
            "{'surface': '\\u3000', 'base': '\\u3000', 'pos': '記号', 'pos1': '空白'}\n",
            "{'surface': 'どこ', 'base': 'どこ', 'pos': '名詞', 'pos1': '代名詞'}\n",
            "{'surface': 'で', 'base': 'で', 'pos': '助詞', 'pos1': '格助詞'}\n",
            "{'surface': '生れ', 'base': '生れる', 'pos': '動詞', 'pos1': '自立'}\n",
            "{'surface': 'た', 'base': 'た', 'pos': '助動詞', 'pos1': '*'}\n",
            "{'surface': 'か', 'base': 'か', 'pos': '助詞', 'pos1': '副助詞／並立助詞／終助詞'}\n",
            "{'surface': 'とんと', 'base': 'とんと', 'pos': '副詞', 'pos1': '一般'}\n",
            "{'surface': '見当', 'base': '見当', 'pos': '名詞', 'pos1': 'サ変接続'}\n",
            "{'surface': 'が', 'base': 'が', 'pos': '助詞', 'pos1': '格助詞'}\n",
            "{'surface': 'つか', 'base': 'つく', 'pos': '動詞', 'pos1': '自立'}\n",
            "{'surface': 'ぬ', 'base': 'ぬ', 'pos': '助動詞', 'pos1': '*'}\n",
            "{'surface': '。', 'base': '。', 'pos': '記号', 'pos1': '句点'}\n"
          ],
          "name": "stdout"
        }
      ]
    },
    {
      "cell_type": "markdown",
      "metadata": {
        "id": "iqBoeDODkIIY"
      },
      "source": [
        "## 31. 動詞"
      ]
    },
    {
      "cell_type": "markdown",
      "metadata": {
        "id": "7SjbqHLzkSC7"
      },
      "source": [
        "動詞の表層形をすべて抽出せよ．"
      ]
    },
    {
      "cell_type": "code",
      "metadata": {
        "id": "xGK_LWsrQN5p",
        "outputId": "ddcb073a-ff84-4104-81cb-6f2ac54d4771",
        "colab": {
          "base_uri": "https://localhost:8080/",
          "height": 204
        }
      },
      "source": [
        "verb = set()\n",
        "for sentence in sentences:\n",
        "  for line in sentence:\n",
        "    if line['pos'] == '動詞':\n",
        "      verb.add(line['surface'])\n",
        "\n",
        "print('動詞の種類：', len(verb))\n",
        "for ve in list(verb)[:10]:\n",
        "  print(ve)"
      ],
      "execution_count": 3,
      "outputs": [
        {
          "output_type": "stream",
          "text": [
            "動詞の種類： 3893\n",
            "かすん\n",
            "直ら\n",
            "どく\n",
            "泣く\n",
            "隣り\n",
            "呑み込む\n",
            "乱す\n",
            "纏める\n",
            "取り掛る\n",
            "喰っ\n"
          ],
          "name": "stdout"
        }
      ]
    },
    {
      "cell_type": "markdown",
      "metadata": {
        "id": "Z7PjixBspHx3"
      },
      "source": [
        "## 32. 動詞の原形"
      ]
    },
    {
      "cell_type": "markdown",
      "metadata": {
        "id": "wd5EpxwopyP-"
      },
      "source": [
        "動詞の原形をすべて抽出せよ．"
      ]
    },
    {
      "cell_type": "code",
      "metadata": {
        "id": "TjTSqAdkkriY",
        "outputId": "15881d72-c41b-4775-c172-c8b938cf420c",
        "colab": {
          "base_uri": "https://localhost:8080/",
          "height": 204
        }
      },
      "source": [
        "based_verb = set()\n",
        "for sentence in sentences:\n",
        "  for line in sentence:\n",
        "    if line['pos'] == '動詞':\n",
        "      based_verb.add(line['base'])\n",
        "\n",
        "print('動詞の原形の種類：', len(based_verb))\n",
        "for bv in list(based_verb)[:10]:\n",
        "  print(bv)"
      ],
      "execution_count": 4,
      "outputs": [
        {
          "output_type": "stream",
          "text": [
            "動詞の原形の種類： 2300\n",
            "どく\n",
            "泣く\n",
            "呑み込む\n",
            "平らげる\n",
            "乱す\n",
            "伏す\n",
            "纏める\n",
            "取り掛る\n",
            "すかす\n",
            "探る\n"
          ],
          "name": "stdout"
        }
      ]
    },
    {
      "cell_type": "markdown",
      "metadata": {
        "id": "4I4_ScPPqkfl"
      },
      "source": [
        "## 33. 「AのB」"
      ]
    },
    {
      "cell_type": "markdown",
      "metadata": {
        "id": "6k_3Bh89qss4"
      },
      "source": [
        "2つの名詞が「の」で連結されている名詞句を抽出せよ．"
      ]
    },
    {
      "cell_type": "code",
      "metadata": {
        "id": "J7r99eLTqZV0",
        "outputId": "91d8c255-345f-4e26-da83-07cbe60b733b",
        "colab": {
          "base_uri": "https://localhost:8080/",
          "height": 204
        }
      },
      "source": [
        "nouns = set()\n",
        "for sentence in sentences:\n",
        "  for index, line in enumerate(sentence):\n",
        "    if index+2 < len(sentence):\n",
        "      if line['pos'] == '名詞' and sentence[index+2]['pos'] == '名詞':\n",
        "        if sentence[index+1]['surface'] == 'の':\n",
        "          nouns.add(line['surface'] + 'の' + sentence[index+2]['surface'])\n",
        "print('名詞句の種類：', len(nouns))\n",
        "for noun in list(nouns)[:10]:\n",
        "  print(noun)"
      ],
      "execution_count": 5,
      "outputs": [
        {
          "output_type": "stream",
          "text": [
            "名詞句の種類： 4924\n",
            "彼の考\n",
            "説のよう\n",
            "リーシャスの援\n",
            "退屈のあまり\n",
            "主人の愚\n",
            "健全の人間\n",
            "様のよう\n",
            "自分の姓名\n",
            "二の真理\n",
            "正義のため\n"
          ],
          "name": "stdout"
        }
      ]
    },
    {
      "cell_type": "markdown",
      "metadata": {
        "id": "WPRXdCzotqiA"
      },
      "source": [
        "## 34. 名詞の連接"
      ]
    },
    {
      "cell_type": "markdown",
      "metadata": {
        "id": "YfsZhP5rttuN"
      },
      "source": [
        "名詞の連接（連続して出現する名詞）を最長一致で抽出せよ．"
      ]
    },
    {
      "cell_type": "code",
      "metadata": {
        "id": "Ns6lmf6itFBV",
        "outputId": "d9db90e8-18ab-4cb0-979f-aeb99239571e",
        "colab": {
          "base_uri": "https://localhost:8080/",
          "height": 204
        }
      },
      "source": [
        "nouns_set = set()\n",
        "for sentence in sentences:\n",
        "  nouns_map = {'num': 0, 'str': ''}\n",
        "  for index, line in enumerate(sentence):\n",
        "    if line['pos'] == '名詞':\n",
        "      nouns_map['num'] = nouns_map['num'] + 1\n",
        "      nouns_map['str'] = nouns_map['str'] + line['surface']\n",
        "    else:\n",
        "      if nouns_map['str'] != '' and 1 < nouns_map['num']:\n",
        "        nouns_set.add(nouns_map['str'])\n",
        "      else:\n",
        "        nouns_map['str'] = ''\n",
        "      nouns_map['num'] = 0\n",
        "print('名詞句の種類：', len(nouns_set))\n",
        "for noun in list(nouns_set)[:10]:\n",
        "  print(noun)"
      ],
      "execution_count": 6,
      "outputs": [
        {
          "output_type": "stream",
          "text": [
            "名詞句の種類： 4682\n",
            "入国以来三百年\n",
            "みんな感心\n",
            "産婆営業勝手\n",
            "日本国帝都\n",
            "——一\n",
            "落雲館\n",
            "晩帰り\n",
            "名人理学士水島寒月\n",
            "芸術趣味\n",
            "もっとも集\n"
          ],
          "name": "stdout"
        }
      ]
    },
    {
      "cell_type": "markdown",
      "metadata": {
        "id": "AMqcfqi6xeWH"
      },
      "source": [
        "## 35. 単語の出現頻度"
      ]
    },
    {
      "cell_type": "markdown",
      "metadata": {
        "id": "Co39bCkExheb"
      },
      "source": [
        "文章中に出現する単語とその出現頻度を求め，出現頻度の高い順に並べよ．"
      ]
    },
    {
      "cell_type": "code",
      "metadata": {
        "id": "XoRxMltJv3G4",
        "outputId": "c56252df-81e6-4bbd-bbf3-f68da0b512ed",
        "colab": {
          "base_uri": "https://localhost:8080/",
          "height": 204
        }
      },
      "source": [
        "import pandas as pd\n",
        "import numpy as np\n",
        "\n",
        "word_list = []\n",
        "for sentence in sentences:\n",
        "  for line in sentence:\n",
        "    if line['pos'] != '記号':\n",
        "      if line['surface'] != 0:\n",
        "        word_list.append(line['base'])\n",
        "word_df = pd.DataFrame({'word': word_list})\n",
        "\n",
        "word_df['word'].value_counts().head(10)"
      ],
      "execution_count": 7,
      "outputs": [
        {
          "output_type": "execute_result",
          "data": {
            "text/plain": [
              "の     9194\n",
              "て     6848\n",
              "は     6420\n",
              "に     6243\n",
              "を     6071\n",
              "だ     5972\n",
              "と     5508\n",
              "が     5337\n",
              "た     4267\n",
              "する    3657\n",
              "Name: word, dtype: int64"
            ]
          },
          "metadata": {
            "tags": []
          },
          "execution_count": 7
        }
      ]
    },
    {
      "cell_type": "markdown",
      "metadata": {
        "id": "pBZDfYk1CHtG"
      },
      "source": [
        "## 36. 頻度上位10語"
      ]
    },
    {
      "cell_type": "markdown",
      "metadata": {
        "id": "pWrEzXj1CNuX"
      },
      "source": [
        "出現頻度が高い10語とその出現頻度をグラフ（例えば棒グラフなど）で表示せよ．"
      ]
    },
    {
      "cell_type": "code",
      "metadata": {
        "id": "5dWHK0ap0S0z",
        "outputId": "f8c15be6-0edb-4373-fead-5189e7a97287",
        "colab": {
          "base_uri": "https://localhost:8080/",
          "height": 332
        }
      },
      "source": [
        "import matplotlib.pyplot as plt\n",
        "import japanize_matplotlib \n",
        "\n",
        "top_10_word = word_df['word'].value_counts().head(10)\n",
        "top_10_word_list = list(top_10_word.index)\n",
        "top_10_word_count_list = list(top_10_word)\n",
        "\n",
        "plt.bar(top_10_word_list, top_10_word_count_list)"
      ],
      "execution_count": 8,
      "outputs": [
        {
          "output_type": "stream",
          "text": [
            "/usr/local/lib/python3.6/dist-packages/japanize_matplotlib/japanize_matplotlib.py:15: MatplotlibDeprecationWarning: \n",
            "The createFontList function was deprecated in Matplotlib 3.2 and will be removed two minor releases later. Use FontManager.addfont instead.\n",
            "  font_list = font_manager.createFontList(font_files)\n"
          ],
          "name": "stderr"
        },
        {
          "output_type": "execute_result",
          "data": {
            "text/plain": [
              "<BarContainer object of 10 artists>"
            ]
          },
          "metadata": {
            "tags": []
          },
          "execution_count": 8
        },
        {
          "output_type": "display_data",
          "data": {
            "image/png": "[encoded data removed]",
            "text/plain": [
              "<Figure size 432x288 with 1 Axes>"
            ]
          },
          "metadata": {
            "tags": [],
            "needs_background": "light"
          }
        }
      ]
    },
    {
      "cell_type": "markdown",
      "metadata": {
        "id": "WWGYKJC5F_YW"
      },
      "source": [
        "## 37. 「猫」と共起頻度の高い上位10語"
      ]
    },
    {
      "cell_type": "markdown",
      "metadata": {
        "id": "wZ5OujpvGCqw"
      },
      "source": [
        "「猫」とよく共起する（共起頻度が高い）10語とその出現頻度をグラフ（例えば棒グラフなど）で表示せよ．"
      ]
    },
    {
      "cell_type": "code",
      "metadata": {
        "id": "Bbp7IR4wCmJs",
        "outputId": "4f2061a6-a9ae-4af7-e363-1e1eb0f20d30",
        "colab": {
          "base_uri": "https://localhost:8080/",
          "height": 281
        }
      },
      "source": [
        "co_occu_list = []\n",
        "for sentence in sentences:\n",
        "  temp_list = []\n",
        "  for line in sentence:\n",
        "    if line['pos'] != '記号':\n",
        "      if line['surface'] != 0:\n",
        "        temp_list.append(line['base'])\n",
        "  if '猫' in temp_list:\n",
        "    for wd in temp_list:\n",
        "      if '猫' not in wd:\n",
        "        co_occu_list.append(wd)\n",
        "co_occu_df = pd.DataFrame({'frequency': co_occu_list})\n",
        "co_occu_freq = co_occu_df['frequency'].value_counts().head(10)\n",
        "co_occu_freq_index = list(co_occu_freq.index)\n",
        "\n",
        "plt.bar(co_occu_freq_index, list(co_occu_freq))"
      ],
      "execution_count": 9,
      "outputs": [
        {
          "output_type": "execute_result",
          "data": {
            "text/plain": [
              "<BarContainer object of 10 artists>"
            ]
          },
          "metadata": {
            "tags": []
          },
          "execution_count": 9
        },
        {
          "output_type": "display_data",
          "data": {
            "image/png": "[encoded data removed]",
            "text/plain": [
              "<Figure size 432x288 with 1 Axes>"
            ]
          },
          "metadata": {
            "tags": [],
            "needs_background": "light"
          }
        }
      ]
    },
    {
      "cell_type": "markdown",
      "metadata": {
        "id": "dmryHqFGYd5R"
      },
      "source": [
        "## 38. ヒストグラム"
      ]
    },
    {
      "cell_type": "markdown",
      "metadata": {
        "id": "rg8ETFPwYoYA"
      },
      "source": [
        "単語の出現頻度のヒストグラムを描け．ただし，横軸は出現頻度を表し，1から単語の出現頻度の最大値までの線形目盛とする．縦軸はx軸で示される出現頻度となった単語の異なり数（種類数）である．"
      ]
    },
    {
      "cell_type": "code",
      "metadata": {
        "id": "nF9T3WH1IJEf",
        "outputId": "0e5ff295-9350-48bd-bc5e-b1c9d4393dee",
        "colab": {
          "base_uri": "https://localhost:8080/",
          "height": 791
        }
      },
      "source": [
        "plt.hist(list(word_df['word'].value_counts()), bins=100, range=(1,100))"
      ],
      "execution_count": 20,
      "outputs": [
        {
          "output_type": "execute_result",
          "data": {
            "text/plain": [
              "(array([4.707e+03, 1.901e+03, 9.570e+02, 6.020e+02, 4.590e+02, 3.230e+02,\n",
              "        2.410e+02, 2.060e+02, 1.590e+02, 1.250e+02, 1.200e+02, 1.190e+02,\n",
              "        8.300e+01, 9.600e+01, 7.400e+01, 5.200e+01, 4.900e+01, 5.700e+01,\n",
              "        4.600e+01, 4.300e+01, 3.000e+01, 2.900e+01, 3.100e+01, 3.400e+01,\n",
              "        2.100e+01, 1.800e+01, 2.500e+01, 1.900e+01, 2.200e+01, 2.200e+01,\n",
              "        1.200e+01, 1.600e+01, 1.300e+01, 1.300e+01, 1.900e+01, 1.700e+01,\n",
              "        8.000e+00, 1.400e+01, 1.000e+01, 1.300e+01, 1.500e+01, 1.000e+01,\n",
              "        7.000e+00, 9.000e+00, 1.100e+01, 9.000e+00, 8.000e+00, 8.000e+00,\n",
              "        4.000e+00, 6.000e+00, 8.000e+00, 6.000e+00, 3.000e+00, 2.000e+00,\n",
              "        6.000e+00, 4.000e+00, 4.000e+00, 2.000e+00, 6.000e+00, 6.000e+00,\n",
              "        2.000e+00, 6.000e+00, 3.000e+00, 3.000e+00, 4.000e+00, 2.000e+00,\n",
              "        3.000e+00, 4.000e+00, 2.000e+00, 4.000e+00, 4.000e+00, 4.000e+00,\n",
              "        7.000e+00, 5.000e+00, 1.000e+00, 1.000e+00, 2.000e+00, 2.000e+00,\n",
              "        4.000e+00, 3.000e+00, 1.000e+00, 3.000e+00, 3.000e+00, 4.000e+00,\n",
              "        4.000e+00, 3.000e+00, 0.000e+00, 3.000e+00, 1.000e+00, 2.000e+00,\n",
              "        2.000e+00, 0.000e+00, 3.000e+00, 2.000e+00, 1.000e+00, 3.000e+00,\n",
              "        3.000e+00, 2.000e+00, 2.000e+00, 1.000e+00]),\n",
              " array([  1.  ,   1.99,   2.98,   3.97,   4.96,   5.95,   6.94,   7.93,\n",
              "          8.92,   9.91,  10.9 ,  11.89,  12.88,  13.87,  14.86,  15.85,\n",
              "         16.84,  17.83,  18.82,  19.81,  20.8 ,  21.79,  22.78,  23.77,\n",
              "         24.76,  25.75,  26.74,  27.73,  28.72,  29.71,  30.7 ,  31.69,\n",
              "         32.68,  33.67,  34.66,  35.65,  36.64,  37.63,  38.62,  39.61,\n",
              "         40.6 ,  41.59,  42.58,  43.57,  44.56,  45.55,  46.54,  47.53,\n",
              "         48.52,  49.51,  50.5 ,  51.49,  52.48,  53.47,  54.46,  55.45,\n",
              "         56.44,  57.43,  58.42,  59.41,  60.4 ,  61.39,  62.38,  63.37,\n",
              "         64.36,  65.35,  66.34,  67.33,  68.32,  69.31,  70.3 ,  71.29,\n",
              "         72.28,  73.27,  74.26,  75.25,  76.24,  77.23,  78.22,  79.21,\n",
              "         80.2 ,  81.19,  82.18,  83.17,  84.16,  85.15,  86.14,  87.13,\n",
              "         88.12,  89.11,  90.1 ,  91.09,  92.08,  93.07,  94.06,  95.05,\n",
              "         96.04,  97.03,  98.02,  99.01, 100.  ]),\n",
              " <a list of 100 Patch objects>)"
            ]
          },
          "metadata": {
            "tags": []
          },
          "execution_count": 20
        },
        {
          "output_type": "display_data",
          "data": {
            "image/png": "[encoded data removed]",
            "text/plain": [
              "<Figure size 432x288 with 1 Axes>"
            ]
          },
          "metadata": {
            "tags": [],
            "needs_background": "light"
          }
        }
      ]
    },
    {
      "cell_type": "markdown",
      "metadata": {
        "id": "FhbO0Jn_dxnH"
      },
      "source": [
        "## 39. Zipfの法則"
      ]
    },
    {
      "cell_type": "markdown",
      "metadata": {
        "id": "h20BWxkldz3j"
      },
      "source": [
        "単語の出現頻度順位を横軸，その出現頻度を縦軸として，両対数グラフをプロットせよ．"
      ]
    },
    {
      "cell_type": "code",
      "metadata": {
        "id": "ApGGFAnzbJAp",
        "outputId": "73235460-bf5a-41ef-a59e-ab8655387078",
        "colab": {
          "base_uri": "https://localhost:8080/",
          "height": 292
        }
      },
      "source": [
        "from scipy.stats import rankdata\n",
        "\n",
        "freq_ranking = rankdata(-np.array(list(word_df['word'].value_counts())))\n",
        "freq_ranking = list(dict.fromkeys(freq_ranking))\n",
        "freq_word = list(dict.fromkeys(word_df['word'].value_counts()))\n",
        "\n",
        "plt.plot(freq_ranking, freq_word)\n",
        "ax = plt.gca()\n",
        "ax.spines['top'].set_color('none')\n",
        "ax.set_yscale('log')\n",
        "ax.set_xscale('log')\n",
        "plt.xlabel('出現頻度順位',fontsize=18)\n",
        "plt.ylabel('出現頻度',fontsize=18)\n",
        "plt.grid(which=\"both\")\n",
        "\n",
        "plt.show()"
      ],
      "execution_count": 30,
      "outputs": [
        {
          "output_type": "display_data",
          "data": {
            "image/png": "[encoded data removed]",
            "text/plain": [
              "<Figure size 432x288 with 1 Axes>"
            ]
          },
          "metadata": {
            "tags": [],
            "needs_background": "light"
          }
        }
      ]
    },
    {
      "cell_type": "code",
      "metadata": {
        "id": "NeEn817MffEL"
      },
      "source": [
        ""
      ],
      "execution_count": null,
      "outputs": []
    }
  ]
}